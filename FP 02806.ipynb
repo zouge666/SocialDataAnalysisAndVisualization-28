{
 "cells": [
  {
   "cell_type": "code",
   "execution_count": 1,
   "id": "29ab5293-4ba8-4b39-b9dc-c86b4909035a",
   "metadata": {},
   "outputs": [
    {
     "name": "stderr",
     "output_type": "stream",
     "text": [
      "Extension for Scikit-learn* enabled (https://github.com/uxlfoundation/scikit-learn-intelex)\n"
     ]
    }
   ],
   "source": [
    "from sklearnex import patch_sklearn\n",
    "patch_sklearn()"
   ]
  },
  {
   "cell_type": "markdown",
   "id": "23c548cb-1992-42fb-843c-416517cd6088",
   "metadata": {},
   "source": [
    "**Binary logistic regression**"
   ]
  },
  {
   "cell_type": "code",
   "execution_count": 2,
   "id": "b0fddbbc-9f8e-4249-961e-05a88bba7dc9",
   "metadata": {},
   "outputs": [
    {
     "data": {
      "text/html": [
       "\n",
       "<style>\n",
       ".output_scroll {\n",
       "    overflow-x: auto;\n",
       "}\n",
       "</style>\n"
      ],
      "text/plain": [
       "<IPython.core.display.HTML object>"
      ]
     },
     "metadata": {},
     "output_type": "display_data"
    },
    {
     "data": {
      "text/html": [
       "<h4>WorldCupMatches.csv (Encoding: latin1)</h4>"
      ],
      "text/plain": [
       "<IPython.core.display.HTML object>"
      ]
     },
     "metadata": {},
     "output_type": "display_data"
    },
    {
     "data": {
      "text/html": [
       "<div>\n",
       "<style scoped>\n",
       "    .dataframe tbody tr th:only-of-type {\n",
       "        vertical-align: middle;\n",
       "    }\n",
       "\n",
       "    .dataframe tbody tr th {\n",
       "        vertical-align: top;\n",
       "    }\n",
       "\n",
       "    .dataframe thead th {\n",
       "        text-align: right;\n",
       "    }\n",
       "</style>\n",
       "<table border=\"1\" class=\"dataframe\">\n",
       "  <thead>\n",
       "    <tr style=\"text-align: right;\">\n",
       "      <th></th>\n",
       "      <th>Year</th>\n",
       "      <th>Datetime</th>\n",
       "      <th>Stage</th>\n",
       "      <th>Stadium</th>\n",
       "      <th>City</th>\n",
       "      <th>Hometeamname</th>\n",
       "      <th>Hometeamgoals</th>\n",
       "      <th>Awayteamgoals</th>\n",
       "      <th>Awayteamname</th>\n",
       "      <th>Winconditions</th>\n",
       "      <th>...</th>\n",
       "      <th>Assistant1</th>\n",
       "      <th>Assistant2</th>\n",
       "      <th>Roundid</th>\n",
       "      <th>Matchid</th>\n",
       "      <th>Hometeaminitials</th>\n",
       "      <th>Awayteaminitials</th>\n",
       "      <th>latitude</th>\n",
       "      <th>longitude</th>\n",
       "      <th>koppen_code</th>\n",
       "      <th>koppen_desc</th>\n",
       "    </tr>\n",
       "  </thead>\n",
       "  <tbody>\n",
       "    <tr>\n",
       "      <th>0</th>\n",
       "      <td>1930</td>\n",
       "      <td>13 Jul 1930 - 15:00</td>\n",
       "      <td>Group 1</td>\n",
       "      <td>Pocitos</td>\n",
       "      <td>Montevideo</td>\n",
       "      <td>France</td>\n",
       "      <td>4</td>\n",
       "      <td>1</td>\n",
       "      <td>Mexico</td>\n",
       "      <td></td>\n",
       "      <td>...</td>\n",
       "      <td>CRISTOPHE Henry (BEL)</td>\n",
       "      <td>REGO Gilberto (BRA)</td>\n",
       "      <td>201</td>\n",
       "      <td>1096</td>\n",
       "      <td>FRA</td>\n",
       "      <td>MEX</td>\n",
       "      <td>-34.905892</td>\n",
       "      <td>-56.19131</td>\n",
       "      <td>Cfa</td>\n",
       "      <td>Humid subtropical climates</td>\n",
       "    </tr>\n",
       "    <tr>\n",
       "      <th>1</th>\n",
       "      <td>1930</td>\n",
       "      <td>13 Jul 1930 - 15:00</td>\n",
       "      <td>Group 4</td>\n",
       "      <td>Parque Central</td>\n",
       "      <td>Montevideo</td>\n",
       "      <td>USA</td>\n",
       "      <td>3</td>\n",
       "      <td>0</td>\n",
       "      <td>Belgium</td>\n",
       "      <td></td>\n",
       "      <td>...</td>\n",
       "      <td>MATEUCCI Francisco (URU)</td>\n",
       "      <td>WARNKEN Alberto (CHI)</td>\n",
       "      <td>201</td>\n",
       "      <td>1090</td>\n",
       "      <td>USA</td>\n",
       "      <td>BEL</td>\n",
       "      <td>-34.905892</td>\n",
       "      <td>-56.19131</td>\n",
       "      <td>Cfa</td>\n",
       "      <td>Humid subtropical climates</td>\n",
       "    </tr>\n",
       "    <tr>\n",
       "      <th>2</th>\n",
       "      <td>1930</td>\n",
       "      <td>14 Jul 1930 - 12:45</td>\n",
       "      <td>Group 2</td>\n",
       "      <td>Parque Central</td>\n",
       "      <td>Montevideo</td>\n",
       "      <td>Yugoslavia</td>\n",
       "      <td>2</td>\n",
       "      <td>1</td>\n",
       "      <td>Brazil</td>\n",
       "      <td></td>\n",
       "      <td>...</td>\n",
       "      <td>VALLARINO Ricardo (URU)</td>\n",
       "      <td>BALWAY Thomas (FRA)</td>\n",
       "      <td>201</td>\n",
       "      <td>1093</td>\n",
       "      <td>YUG</td>\n",
       "      <td>BRA</td>\n",
       "      <td>-34.905892</td>\n",
       "      <td>-56.19131</td>\n",
       "      <td>Cfa</td>\n",
       "      <td>Humid subtropical climates</td>\n",
       "    </tr>\n",
       "    <tr>\n",
       "      <th>3</th>\n",
       "      <td>1930</td>\n",
       "      <td>14 Jul 1930 - 14:50</td>\n",
       "      <td>Group 3</td>\n",
       "      <td>Pocitos</td>\n",
       "      <td>Montevideo</td>\n",
       "      <td>Romania</td>\n",
       "      <td>3</td>\n",
       "      <td>1</td>\n",
       "      <td>Peru</td>\n",
       "      <td></td>\n",
       "      <td>...</td>\n",
       "      <td>LANGENUS Jean (BEL)</td>\n",
       "      <td>MATEUCCI Francisco (URU)</td>\n",
       "      <td>201</td>\n",
       "      <td>1098</td>\n",
       "      <td>ROU</td>\n",
       "      <td>PER</td>\n",
       "      <td>-34.905892</td>\n",
       "      <td>-56.19131</td>\n",
       "      <td>Cfa</td>\n",
       "      <td>Humid subtropical climates</td>\n",
       "    </tr>\n",
       "    <tr>\n",
       "      <th>4</th>\n",
       "      <td>1930</td>\n",
       "      <td>15 Jul 1930 - 16:00</td>\n",
       "      <td>Group 1</td>\n",
       "      <td>Parque Central</td>\n",
       "      <td>Montevideo</td>\n",
       "      <td>Argentina</td>\n",
       "      <td>1</td>\n",
       "      <td>0</td>\n",
       "      <td>France</td>\n",
       "      <td></td>\n",
       "      <td>...</td>\n",
       "      <td>SAUCEDO Ulises (BOL)</td>\n",
       "      <td>RADULESCU Constantin (ROU)</td>\n",
       "      <td>201</td>\n",
       "      <td>1085</td>\n",
       "      <td>ARG</td>\n",
       "      <td>FRA</td>\n",
       "      <td>-34.905892</td>\n",
       "      <td>-56.19131</td>\n",
       "      <td>Cfa</td>\n",
       "      <td>Humid subtropical climates</td>\n",
       "    </tr>\n",
       "  </tbody>\n",
       "</table>\n",
       "<p>5 rows × 24 columns</p>\n",
       "</div>"
      ],
      "text/plain": [
       "   Year              Datetime    Stage         Stadium         City  \\\n",
       "0  1930  13 Jul 1930 - 15:00   Group 1         Pocitos  Montevideo    \n",
       "1  1930  13 Jul 1930 - 15:00   Group 4  Parque Central  Montevideo    \n",
       "2  1930  14 Jul 1930 - 12:45   Group 2  Parque Central  Montevideo    \n",
       "3  1930  14 Jul 1930 - 14:50   Group 3         Pocitos  Montevideo    \n",
       "4  1930  15 Jul 1930 - 16:00   Group 1  Parque Central  Montevideo    \n",
       "\n",
       "  Hometeamname  Hometeamgoals  Awayteamgoals Awayteamname Winconditions  ...  \\\n",
       "0       France              4              1       Mexico                ...   \n",
       "1          USA              3              0      Belgium                ...   \n",
       "2   Yugoslavia              2              1       Brazil                ...   \n",
       "3      Romania              3              1         Peru                ...   \n",
       "4    Argentina              1              0       France                ...   \n",
       "\n",
       "                 Assistant1                  Assistant2  Roundid Matchid  \\\n",
       "0     CRISTOPHE Henry (BEL)         REGO Gilberto (BRA)      201    1096   \n",
       "1  MATEUCCI Francisco (URU)       WARNKEN Alberto (CHI)      201    1090   \n",
       "2   VALLARINO Ricardo (URU)         BALWAY Thomas (FRA)      201    1093   \n",
       "3       LANGENUS Jean (BEL)    MATEUCCI Francisco (URU)      201    1098   \n",
       "4      SAUCEDO Ulises (BOL)  RADULESCU Constantin (ROU)      201    1085   \n",
       "\n",
       "  Hometeaminitials Awayteaminitials   latitude  longitude koppen_code  \\\n",
       "0              FRA              MEX -34.905892  -56.19131         Cfa   \n",
       "1              USA              BEL -34.905892  -56.19131         Cfa   \n",
       "2              YUG              BRA -34.905892  -56.19131         Cfa   \n",
       "3              ROU              PER -34.905892  -56.19131         Cfa   \n",
       "4              ARG              FRA -34.905892  -56.19131         Cfa   \n",
       "\n",
       "                  koppen_desc  \n",
       "0  Humid subtropical climates  \n",
       "1  Humid subtropical climates  \n",
       "2  Humid subtropical climates  \n",
       "3  Humid subtropical climates  \n",
       "4  Humid subtropical climates  \n",
       "\n",
       "[5 rows x 24 columns]"
      ]
     },
     "metadata": {},
     "output_type": "display_data"
    },
    {
     "data": {
      "text/html": [
       "<h4>WorldCupPlayers.csv (Encoding: utf-8)</h4>"
      ],
      "text/plain": [
       "<IPython.core.display.HTML object>"
      ]
     },
     "metadata": {},
     "output_type": "display_data"
    },
    {
     "data": {
      "text/html": [
       "<div>\n",
       "<style scoped>\n",
       "    .dataframe tbody tr th:only-of-type {\n",
       "        vertical-align: middle;\n",
       "    }\n",
       "\n",
       "    .dataframe tbody tr th {\n",
       "        vertical-align: top;\n",
       "    }\n",
       "\n",
       "    .dataframe thead th {\n",
       "        text-align: right;\n",
       "    }\n",
       "</style>\n",
       "<table border=\"1\" class=\"dataframe\">\n",
       "  <thead>\n",
       "    <tr style=\"text-align: right;\">\n",
       "      <th></th>\n",
       "      <th>RoundID</th>\n",
       "      <th>MatchID</th>\n",
       "      <th>Team Initials</th>\n",
       "      <th>Coach Name</th>\n",
       "      <th>Line-up</th>\n",
       "      <th>Shirt Number</th>\n",
       "      <th>Player Name</th>\n",
       "      <th>Position</th>\n",
       "      <th>Event</th>\n",
       "    </tr>\n",
       "  </thead>\n",
       "  <tbody>\n",
       "    <tr>\n",
       "      <th>0</th>\n",
       "      <td>201</td>\n",
       "      <td>1096</td>\n",
       "      <td>FRA</td>\n",
       "      <td>CAUDRON Raoul (FRA)</td>\n",
       "      <td>S</td>\n",
       "      <td>0</td>\n",
       "      <td>Alex THEPOT</td>\n",
       "      <td>GK</td>\n",
       "      <td>NaN</td>\n",
       "    </tr>\n",
       "    <tr>\n",
       "      <th>1</th>\n",
       "      <td>201</td>\n",
       "      <td>1096</td>\n",
       "      <td>MEX</td>\n",
       "      <td>LUQUE Juan (MEX)</td>\n",
       "      <td>S</td>\n",
       "      <td>0</td>\n",
       "      <td>Oscar BONFIGLIO</td>\n",
       "      <td>GK</td>\n",
       "      <td>NaN</td>\n",
       "    </tr>\n",
       "    <tr>\n",
       "      <th>2</th>\n",
       "      <td>201</td>\n",
       "      <td>1096</td>\n",
       "      <td>FRA</td>\n",
       "      <td>CAUDRON Raoul (FRA)</td>\n",
       "      <td>S</td>\n",
       "      <td>0</td>\n",
       "      <td>Marcel LANGILLER</td>\n",
       "      <td>NaN</td>\n",
       "      <td>G40'</td>\n",
       "    </tr>\n",
       "    <tr>\n",
       "      <th>3</th>\n",
       "      <td>201</td>\n",
       "      <td>1096</td>\n",
       "      <td>MEX</td>\n",
       "      <td>LUQUE Juan (MEX)</td>\n",
       "      <td>S</td>\n",
       "      <td>0</td>\n",
       "      <td>Juan CARRENO</td>\n",
       "      <td>NaN</td>\n",
       "      <td>G70'</td>\n",
       "    </tr>\n",
       "    <tr>\n",
       "      <th>4</th>\n",
       "      <td>201</td>\n",
       "      <td>1096</td>\n",
       "      <td>FRA</td>\n",
       "      <td>CAUDRON Raoul (FRA)</td>\n",
       "      <td>S</td>\n",
       "      <td>0</td>\n",
       "      <td>Ernest LIBERATI</td>\n",
       "      <td>NaN</td>\n",
       "      <td>NaN</td>\n",
       "    </tr>\n",
       "  </tbody>\n",
       "</table>\n",
       "</div>"
      ],
      "text/plain": [
       "   RoundID  MatchID Team Initials           Coach Name Line-up  Shirt Number  \\\n",
       "0      201     1096           FRA  CAUDRON Raoul (FRA)       S             0   \n",
       "1      201     1096           MEX     LUQUE Juan (MEX)       S             0   \n",
       "2      201     1096           FRA  CAUDRON Raoul (FRA)       S             0   \n",
       "3      201     1096           MEX     LUQUE Juan (MEX)       S             0   \n",
       "4      201     1096           FRA  CAUDRON Raoul (FRA)       S             0   \n",
       "\n",
       "        Player Name Position Event  \n",
       "0       Alex THEPOT       GK   NaN  \n",
       "1   Oscar BONFIGLIO       GK   NaN  \n",
       "2  Marcel LANGILLER      NaN  G40'  \n",
       "3      Juan CARRENO      NaN  G70'  \n",
       "4   Ernest LIBERATI      NaN   NaN  "
      ]
     },
     "metadata": {},
     "output_type": "display_data"
    },
    {
     "data": {
      "text/html": [
       "<h4>WorldCupsSummary.csv (Encoding: utf-8)</h4>"
      ],
      "text/plain": [
       "<IPython.core.display.HTML object>"
      ]
     },
     "metadata": {},
     "output_type": "display_data"
    },
    {
     "data": {
      "text/html": [
       "<div>\n",
       "<style scoped>\n",
       "    .dataframe tbody tr th:only-of-type {\n",
       "        vertical-align: middle;\n",
       "    }\n",
       "\n",
       "    .dataframe tbody tr th {\n",
       "        vertical-align: top;\n",
       "    }\n",
       "\n",
       "    .dataframe thead th {\n",
       "        text-align: right;\n",
       "    }\n",
       "</style>\n",
       "<table border=\"1\" class=\"dataframe\">\n",
       "  <thead>\n",
       "    <tr style=\"text-align: right;\">\n",
       "      <th></th>\n",
       "      <th>Year</th>\n",
       "      <th>HostCountry</th>\n",
       "      <th>Winner</th>\n",
       "      <th>Second</th>\n",
       "      <th>Third</th>\n",
       "      <th>Fourth</th>\n",
       "      <th>GoalsScored</th>\n",
       "      <th>QualifiedTeams</th>\n",
       "      <th>MatchesPlayed</th>\n",
       "      <th>Attendance</th>\n",
       "      <th>HostContinent</th>\n",
       "      <th>WinnerContinent</th>\n",
       "    </tr>\n",
       "  </thead>\n",
       "  <tbody>\n",
       "    <tr>\n",
       "      <th>0</th>\n",
       "      <td>1930</td>\n",
       "      <td>Uruguay</td>\n",
       "      <td>Uruguay</td>\n",
       "      <td>Argentina</td>\n",
       "      <td>USA</td>\n",
       "      <td>Yugoslavia</td>\n",
       "      <td>70</td>\n",
       "      <td>13</td>\n",
       "      <td>18</td>\n",
       "      <td>590549</td>\n",
       "      <td>America</td>\n",
       "      <td>America</td>\n",
       "    </tr>\n",
       "    <tr>\n",
       "      <th>1</th>\n",
       "      <td>1934</td>\n",
       "      <td>Italy</td>\n",
       "      <td>Italy</td>\n",
       "      <td>Czechoslovakia</td>\n",
       "      <td>Germany</td>\n",
       "      <td>Austria</td>\n",
       "      <td>70</td>\n",
       "      <td>16</td>\n",
       "      <td>17</td>\n",
       "      <td>363000</td>\n",
       "      <td>Europe</td>\n",
       "      <td>Europe</td>\n",
       "    </tr>\n",
       "    <tr>\n",
       "      <th>2</th>\n",
       "      <td>1938</td>\n",
       "      <td>France</td>\n",
       "      <td>Italy</td>\n",
       "      <td>Hungary</td>\n",
       "      <td>Brazil</td>\n",
       "      <td>Sweden</td>\n",
       "      <td>84</td>\n",
       "      <td>15</td>\n",
       "      <td>18</td>\n",
       "      <td>375700</td>\n",
       "      <td>Europe</td>\n",
       "      <td>Europe</td>\n",
       "    </tr>\n",
       "    <tr>\n",
       "      <th>3</th>\n",
       "      <td>1950</td>\n",
       "      <td>Brazil</td>\n",
       "      <td>Uruguay</td>\n",
       "      <td>Brazil</td>\n",
       "      <td>Sweden</td>\n",
       "      <td>Spain</td>\n",
       "      <td>88</td>\n",
       "      <td>13</td>\n",
       "      <td>22</td>\n",
       "      <td>1045246</td>\n",
       "      <td>America</td>\n",
       "      <td>America</td>\n",
       "    </tr>\n",
       "    <tr>\n",
       "      <th>4</th>\n",
       "      <td>1954</td>\n",
       "      <td>Switzerland</td>\n",
       "      <td>Germany FR</td>\n",
       "      <td>Hungary</td>\n",
       "      <td>Austria</td>\n",
       "      <td>Uruguay</td>\n",
       "      <td>140</td>\n",
       "      <td>16</td>\n",
       "      <td>26</td>\n",
       "      <td>768607</td>\n",
       "      <td>Europe</td>\n",
       "      <td>Europe</td>\n",
       "    </tr>\n",
       "  </tbody>\n",
       "</table>\n",
       "</div>"
      ],
      "text/plain": [
       "   Year  HostCountry      Winner          Second    Third      Fourth  \\\n",
       "0  1930      Uruguay     Uruguay       Argentina      USA  Yugoslavia   \n",
       "1  1934        Italy       Italy  Czechoslovakia  Germany     Austria   \n",
       "2  1938       France       Italy         Hungary   Brazil      Sweden   \n",
       "3  1950       Brazil     Uruguay          Brazil   Sweden       Spain   \n",
       "4  1954  Switzerland  Germany FR         Hungary  Austria     Uruguay   \n",
       "\n",
       "   GoalsScored  QualifiedTeams  MatchesPlayed  Attendance HostContinent  \\\n",
       "0           70              13             18      590549       America   \n",
       "1           70              16             17      363000        Europe   \n",
       "2           84              15             18      375700        Europe   \n",
       "3           88              13             22     1045246       America   \n",
       "4          140              16             26      768607        Europe   \n",
       "\n",
       "  WinnerContinent  \n",
       "0         America  \n",
       "1          Europe  \n",
       "2          Europe  \n",
       "3         America  \n",
       "4          Europe  "
      ]
     },
     "metadata": {},
     "output_type": "display_data"
    }
   ],
   "source": [
    "import os\n",
    "import pandas as pd\n",
    "from IPython.display import display, HTML\n",
    "\n",
    "# Define scrollable table style for Jupyter Notebook output\n",
    "style = \"\"\"\n",
    "<style>\n",
    ".output_scroll {\n",
    "    overflow-x: auto;\n",
    "}\n",
    "</style>\n",
    "\"\"\"\n",
    "display(HTML(style))\n",
    "\n",
    "# Get all CSV files in the current directory\n",
    "csv_files = [f for f in os.listdir('.') if f.endswith('.csv')]\n",
    "\n",
    "# List of common text encodings to try\n",
    "encodings = ['utf-8', 'latin1', 'cp1252', 'gbk']\n",
    "\n",
    "# Try reading each CSV file with different encodings\n",
    "for file in csv_files:\n",
    "    df = None\n",
    "    used_encoding = None\n",
    "    for enc in encodings:\n",
    "        try:\n",
    "            # Try to read the CSV file with the current encoding\n",
    "            df = pd.read_csv(file, encoding=enc)\n",
    "            used_encoding = enc\n",
    "            break  # Stop trying encodings once it succeeds\n",
    "        except:\n",
    "            continue  # Try the next encoding if reading fails\n",
    "\n",
    "    # Display file name and detected encoding (or failure notice)\n",
    "    display(HTML(f\"<h4>{file} (Encoding: {used_encoding if used_encoding else '❌ Unreadable'})</h4>\"))\n",
    "    \n",
    "    if df is not None:\n",
    "        # Show the first few rows of the DataFrame\n",
    "        display(df.head())\n",
    "    else:\n",
    "        # Show an error message if reading failed\n",
    "        display(HTML(\"<p style='color:red;'>Failed to read the file with all attempted encodings.</p>\"))\n"
   ]
  },
  {
   "cell_type": "code",
   "execution_count": 3,
   "id": "e3a7874d-07b7-4489-bacd-cea7671bb281",
   "metadata": {},
   "outputs": [
    {
     "data": {
      "text/html": [
       "<h4>WorldCupMatches.csv (Encoding used: latin1)</h4>"
      ],
      "text/plain": [
       "<IPython.core.display.HTML object>"
      ]
     },
     "metadata": {},
     "output_type": "display_data"
    },
    {
     "data": {
      "text/html": [
       "<table border=\"1\" class=\"dataframe\">\n",
       "  <thead>\n",
       "    <tr style=\"text-align: right;\">\n",
       "      <th>Year</th>\n",
       "      <th>Datetime</th>\n",
       "      <th>Stage</th>\n",
       "      <th>Stadium</th>\n",
       "      <th>City</th>\n",
       "      <th>Hometeamname</th>\n",
       "      <th>Hometeamgoals</th>\n",
       "      <th>Awayteamgoals</th>\n",
       "      <th>Awayteamname</th>\n",
       "      <th>Winconditions</th>\n",
       "      <th>Attendance</th>\n",
       "      <th>Halftimehomegoals</th>\n",
       "      <th>Halftimeawaygoals</th>\n",
       "      <th>Referee</th>\n",
       "      <th>Assistant1</th>\n",
       "      <th>Assistant2</th>\n",
       "      <th>Roundid</th>\n",
       "      <th>Matchid</th>\n",
       "      <th>Hometeaminitials</th>\n",
       "      <th>Awayteaminitials</th>\n",
       "      <th>latitude</th>\n",
       "      <th>longitude</th>\n",
       "      <th>koppen_code</th>\n",
       "      <th>koppen_desc</th>\n",
       "    </tr>\n",
       "  </thead>\n",
       "  <tbody>\n",
       "    <tr>\n",
       "      <td>1930</td>\n",
       "      <td>13 Jul 1930 - 15:00</td>\n",
       "      <td>Group 1</td>\n",
       "      <td>Pocitos</td>\n",
       "      <td>Montevideo</td>\n",
       "      <td>France</td>\n",
       "      <td>4</td>\n",
       "      <td>1</td>\n",
       "      <td>Mexico</td>\n",
       "      <td></td>\n",
       "      <td>4444</td>\n",
       "      <td>3</td>\n",
       "      <td>0</td>\n",
       "      <td>LOMBARDI Domingo (URU)</td>\n",
       "      <td>CRISTOPHE Henry (BEL)</td>\n",
       "      <td>REGO Gilberto (BRA)</td>\n",
       "      <td>201</td>\n",
       "      <td>1096</td>\n",
       "      <td>FRA</td>\n",
       "      <td>MEX</td>\n",
       "      <td>-34.905892</td>\n",
       "      <td>-56.19131</td>\n",
       "      <td>Cfa</td>\n",
       "      <td>Humid subtropical climates</td>\n",
       "    </tr>\n",
       "    <tr>\n",
       "      <td>1930</td>\n",
       "      <td>13 Jul 1930 - 15:00</td>\n",
       "      <td>Group 4</td>\n",
       "      <td>Parque Central</td>\n",
       "      <td>Montevideo</td>\n",
       "      <td>USA</td>\n",
       "      <td>3</td>\n",
       "      <td>0</td>\n",
       "      <td>Belgium</td>\n",
       "      <td></td>\n",
       "      <td>18346</td>\n",
       "      <td>2</td>\n",
       "      <td>0</td>\n",
       "      <td>MACIAS Jose (ARG)</td>\n",
       "      <td>MATEUCCI Francisco (URU)</td>\n",
       "      <td>WARNKEN Alberto (CHI)</td>\n",
       "      <td>201</td>\n",
       "      <td>1090</td>\n",
       "      <td>USA</td>\n",
       "      <td>BEL</td>\n",
       "      <td>-34.905892</td>\n",
       "      <td>-56.19131</td>\n",
       "      <td>Cfa</td>\n",
       "      <td>Humid subtropical climates</td>\n",
       "    </tr>\n",
       "    <tr>\n",
       "      <td>1930</td>\n",
       "      <td>14 Jul 1930 - 12:45</td>\n",
       "      <td>Group 2</td>\n",
       "      <td>Parque Central</td>\n",
       "      <td>Montevideo</td>\n",
       "      <td>Yugoslavia</td>\n",
       "      <td>2</td>\n",
       "      <td>1</td>\n",
       "      <td>Brazil</td>\n",
       "      <td></td>\n",
       "      <td>24059</td>\n",
       "      <td>2</td>\n",
       "      <td>0</td>\n",
       "      <td>TEJADA Anibal (URU)</td>\n",
       "      <td>VALLARINO Ricardo (URU)</td>\n",
       "      <td>BALWAY Thomas (FRA)</td>\n",
       "      <td>201</td>\n",
       "      <td>1093</td>\n",
       "      <td>YUG</td>\n",
       "      <td>BRA</td>\n",
       "      <td>-34.905892</td>\n",
       "      <td>-56.19131</td>\n",
       "      <td>Cfa</td>\n",
       "      <td>Humid subtropical climates</td>\n",
       "    </tr>\n",
       "    <tr>\n",
       "      <td>1930</td>\n",
       "      <td>14 Jul 1930 - 14:50</td>\n",
       "      <td>Group 3</td>\n",
       "      <td>Pocitos</td>\n",
       "      <td>Montevideo</td>\n",
       "      <td>Romania</td>\n",
       "      <td>3</td>\n",
       "      <td>1</td>\n",
       "      <td>Peru</td>\n",
       "      <td></td>\n",
       "      <td>2549</td>\n",
       "      <td>1</td>\n",
       "      <td>0</td>\n",
       "      <td>WARNKEN Alberto (CHI)</td>\n",
       "      <td>LANGENUS Jean (BEL)</td>\n",
       "      <td>MATEUCCI Francisco (URU)</td>\n",
       "      <td>201</td>\n",
       "      <td>1098</td>\n",
       "      <td>ROU</td>\n",
       "      <td>PER</td>\n",
       "      <td>-34.905892</td>\n",
       "      <td>-56.19131</td>\n",
       "      <td>Cfa</td>\n",
       "      <td>Humid subtropical climates</td>\n",
       "    </tr>\n",
       "    <tr>\n",
       "      <td>1930</td>\n",
       "      <td>15 Jul 1930 - 16:00</td>\n",
       "      <td>Group 1</td>\n",
       "      <td>Parque Central</td>\n",
       "      <td>Montevideo</td>\n",
       "      <td>Argentina</td>\n",
       "      <td>1</td>\n",
       "      <td>0</td>\n",
       "      <td>France</td>\n",
       "      <td></td>\n",
       "      <td>23409</td>\n",
       "      <td>0</td>\n",
       "      <td>0</td>\n",
       "      <td>REGO Gilberto (BRA)</td>\n",
       "      <td>SAUCEDO Ulises (BOL)</td>\n",
       "      <td>RADULESCU Constantin (ROU)</td>\n",
       "      <td>201</td>\n",
       "      <td>1085</td>\n",
       "      <td>ARG</td>\n",
       "      <td>FRA</td>\n",
       "      <td>-34.905892</td>\n",
       "      <td>-56.19131</td>\n",
       "      <td>Cfa</td>\n",
       "      <td>Humid subtropical climates</td>\n",
       "    </tr>\n",
       "  </tbody>\n",
       "</table>"
      ],
      "text/plain": [
       "<IPython.core.display.HTML object>"
      ]
     },
     "metadata": {},
     "output_type": "display_data"
    },
    {
     "data": {
      "text/html": [
       "<h4>WorldCupPlayers.csv (Encoding used: utf-8)</h4>"
      ],
      "text/plain": [
       "<IPython.core.display.HTML object>"
      ]
     },
     "metadata": {},
     "output_type": "display_data"
    },
    {
     "data": {
      "text/html": [
       "<table border=\"1\" class=\"dataframe\">\n",
       "  <thead>\n",
       "    <tr style=\"text-align: right;\">\n",
       "      <th>RoundID</th>\n",
       "      <th>MatchID</th>\n",
       "      <th>Team Initials</th>\n",
       "      <th>Coach Name</th>\n",
       "      <th>Line-up</th>\n",
       "      <th>Shirt Number</th>\n",
       "      <th>Player Name</th>\n",
       "      <th>Position</th>\n",
       "      <th>Event</th>\n",
       "    </tr>\n",
       "  </thead>\n",
       "  <tbody>\n",
       "    <tr>\n",
       "      <td>201</td>\n",
       "      <td>1096</td>\n",
       "      <td>FRA</td>\n",
       "      <td>CAUDRON Raoul (FRA)</td>\n",
       "      <td>S</td>\n",
       "      <td>0</td>\n",
       "      <td>Alex THEPOT</td>\n",
       "      <td>GK</td>\n",
       "      <td>NaN</td>\n",
       "    </tr>\n",
       "    <tr>\n",
       "      <td>201</td>\n",
       "      <td>1096</td>\n",
       "      <td>MEX</td>\n",
       "      <td>LUQUE Juan (MEX)</td>\n",
       "      <td>S</td>\n",
       "      <td>0</td>\n",
       "      <td>Oscar BONFIGLIO</td>\n",
       "      <td>GK</td>\n",
       "      <td>NaN</td>\n",
       "    </tr>\n",
       "    <tr>\n",
       "      <td>201</td>\n",
       "      <td>1096</td>\n",
       "      <td>FRA</td>\n",
       "      <td>CAUDRON Raoul (FRA)</td>\n",
       "      <td>S</td>\n",
       "      <td>0</td>\n",
       "      <td>Marcel LANGILLER</td>\n",
       "      <td>NaN</td>\n",
       "      <td>G40'</td>\n",
       "    </tr>\n",
       "    <tr>\n",
       "      <td>201</td>\n",
       "      <td>1096</td>\n",
       "      <td>MEX</td>\n",
       "      <td>LUQUE Juan (MEX)</td>\n",
       "      <td>S</td>\n",
       "      <td>0</td>\n",
       "      <td>Juan CARRENO</td>\n",
       "      <td>NaN</td>\n",
       "      <td>G70'</td>\n",
       "    </tr>\n",
       "    <tr>\n",
       "      <td>201</td>\n",
       "      <td>1096</td>\n",
       "      <td>FRA</td>\n",
       "      <td>CAUDRON Raoul (FRA)</td>\n",
       "      <td>S</td>\n",
       "      <td>0</td>\n",
       "      <td>Ernest LIBERATI</td>\n",
       "      <td>NaN</td>\n",
       "      <td>NaN</td>\n",
       "    </tr>\n",
       "  </tbody>\n",
       "</table>"
      ],
      "text/plain": [
       "<IPython.core.display.HTML object>"
      ]
     },
     "metadata": {},
     "output_type": "display_data"
    },
    {
     "data": {
      "text/html": [
       "<h4>WorldCupsSummary.csv (Encoding used: utf-8)</h4>"
      ],
      "text/plain": [
       "<IPython.core.display.HTML object>"
      ]
     },
     "metadata": {},
     "output_type": "display_data"
    },
    {
     "data": {
      "text/html": [
       "<table border=\"1\" class=\"dataframe\">\n",
       "  <thead>\n",
       "    <tr style=\"text-align: right;\">\n",
       "      <th>Year</th>\n",
       "      <th>HostCountry</th>\n",
       "      <th>Winner</th>\n",
       "      <th>Second</th>\n",
       "      <th>Third</th>\n",
       "      <th>Fourth</th>\n",
       "      <th>GoalsScored</th>\n",
       "      <th>QualifiedTeams</th>\n",
       "      <th>MatchesPlayed</th>\n",
       "      <th>Attendance</th>\n",
       "      <th>HostContinent</th>\n",
       "      <th>WinnerContinent</th>\n",
       "    </tr>\n",
       "  </thead>\n",
       "  <tbody>\n",
       "    <tr>\n",
       "      <td>1930</td>\n",
       "      <td>Uruguay</td>\n",
       "      <td>Uruguay</td>\n",
       "      <td>Argentina</td>\n",
       "      <td>USA</td>\n",
       "      <td>Yugoslavia</td>\n",
       "      <td>70</td>\n",
       "      <td>13</td>\n",
       "      <td>18</td>\n",
       "      <td>590549</td>\n",
       "      <td>America</td>\n",
       "      <td>America</td>\n",
       "    </tr>\n",
       "    <tr>\n",
       "      <td>1934</td>\n",
       "      <td>Italy</td>\n",
       "      <td>Italy</td>\n",
       "      <td>Czechoslovakia</td>\n",
       "      <td>Germany</td>\n",
       "      <td>Austria</td>\n",
       "      <td>70</td>\n",
       "      <td>16</td>\n",
       "      <td>17</td>\n",
       "      <td>363000</td>\n",
       "      <td>Europe</td>\n",
       "      <td>Europe</td>\n",
       "    </tr>\n",
       "    <tr>\n",
       "      <td>1938</td>\n",
       "      <td>France</td>\n",
       "      <td>Italy</td>\n",
       "      <td>Hungary</td>\n",
       "      <td>Brazil</td>\n",
       "      <td>Sweden</td>\n",
       "      <td>84</td>\n",
       "      <td>15</td>\n",
       "      <td>18</td>\n",
       "      <td>375700</td>\n",
       "      <td>Europe</td>\n",
       "      <td>Europe</td>\n",
       "    </tr>\n",
       "    <tr>\n",
       "      <td>1950</td>\n",
       "      <td>Brazil</td>\n",
       "      <td>Uruguay</td>\n",
       "      <td>Brazil</td>\n",
       "      <td>Sweden</td>\n",
       "      <td>Spain</td>\n",
       "      <td>88</td>\n",
       "      <td>13</td>\n",
       "      <td>22</td>\n",
       "      <td>1045246</td>\n",
       "      <td>America</td>\n",
       "      <td>America</td>\n",
       "    </tr>\n",
       "    <tr>\n",
       "      <td>1954</td>\n",
       "      <td>Switzerland</td>\n",
       "      <td>Germany FR</td>\n",
       "      <td>Hungary</td>\n",
       "      <td>Austria</td>\n",
       "      <td>Uruguay</td>\n",
       "      <td>140</td>\n",
       "      <td>16</td>\n",
       "      <td>26</td>\n",
       "      <td>768607</td>\n",
       "      <td>Europe</td>\n",
       "      <td>Europe</td>\n",
       "    </tr>\n",
       "  </tbody>\n",
       "</table>"
      ],
      "text/plain": [
       "<IPython.core.display.HTML object>"
      ]
     },
     "metadata": {},
     "output_type": "display_data"
    }
   ],
   "source": [
    "# Ensure that pandas displays full tables: no column truncation or abbreviation\n",
    "pd.set_option('display.max_columns', None)      # Show all columns\n",
    "pd.set_option('display.width', None)            # Auto-adjust display width to avoid wrapping\n",
    "pd.set_option('max_colwidth', None)             # Show full content of each cell\n",
    "\n",
    "# Re-read all CSV files and display the first 5 rows of each using full HTML table rendering\n",
    "for file in csv_files:\n",
    "    df = None\n",
    "    used_encoding = None\n",
    "    for enc in encodings:\n",
    "        try:\n",
    "            # Try reading the file with the current encoding\n",
    "            df = pd.read_csv(file, encoding=enc)\n",
    "            used_encoding = enc\n",
    "            break  # Stop trying if read is successful\n",
    "        except:\n",
    "            continue  # Try the next encoding if reading fails\n",
    "\n",
    "    # Display the file name and the encoding used (or a failure notice)\n",
    "    display(HTML(f\"<h4>{file} (Encoding used: {used_encoding if used_encoding else '❌ Unreadable'})</h4>\"))\n",
    "    \n",
    "    if df is not None:\n",
    "        # Convert the first 5 rows to a full HTML table with unescaped content (e.g., HTML tags if any)\n",
    "        html_table = df.head().to_html(escape=False, index=False)\n",
    "        display(HTML(html_table))  # Render the table using HTML\n",
    "    else:\n",
    "        # Display an error message if the file couldn't be read with any encoding\n",
    "        display(HTML(\"<p style='color:red;'>Failed to read this file using all attempted encodings.</p>\"))\n"
   ]
  },
  {
   "cell_type": "code",
   "execution_count": 4,
   "id": "86a42175-84f7-45e5-a4a3-2654fd3db5d6",
   "metadata": {},
   "outputs": [
    {
     "name": "stdout",
     "output_type": "stream",
     "text": [
      "\n",
      "📄 Column titles of WorldCupMatches.csv:\n",
      "['Year', 'Datetime', 'Stage', 'Stadium', 'City', 'Hometeamname', 'Hometeamgoals', 'Awayteamgoals', 'Awayteamname', 'Winconditions', 'Attendance', 'Halftimehomegoals', 'Halftimeawaygoals', 'Referee', 'Assistant1', 'Assistant2', 'Roundid', 'Matchid', 'Hometeaminitials', 'Awayteaminitials', 'latitude', 'longitude', 'koppen_code', 'koppen_desc']\n",
      "\n",
      "📄 Column titles of WorldCupPlayers.csv:\n",
      "['RoundID', 'MatchID', 'Team Initials', 'Coach Name', 'Line-up', 'Shirt Number', 'Player Name', 'Position', 'Event']\n",
      "\n",
      "📄 Column titles of WorldCupsSummary.csv:\n",
      "['Year', 'HostCountry', 'Winner', 'Second', 'Third', 'Fourth', 'GoalsScored', 'QualifiedTeams', 'MatchesPlayed', 'Attendance', 'HostContinent', 'WinnerContinent']\n"
     ]
    }
   ],
   "source": [
    "# Show column titles of each CSV file\n",
    "for file in csv_files:\n",
    "    headers = None\n",
    "    for enc in encodings:\n",
    "        try:\n",
    "            df = pd.read_csv(file, encoding=enc, nrows=0)  # Read only header\n",
    "            headers = df.columns.tolist()\n",
    "            break\n",
    "        except:\n",
    "            continue\n",
    "\n",
    "    print(f\"\\n📄 Column titles of {file}:\")\n",
    "    if headers:\n",
    "        print(headers)\n",
    "    else:\n",
    "        print(\" Failed to read headers with all encodings.\")\n"
   ]
  },
  {
   "cell_type": "code",
   "execution_count": 11,
   "id": "dd5c429e-7687-423d-9e82-ae756e14b8ed",
   "metadata": {},
   "outputs": [],
   "source": [
    "\n",
    "import pandas as pd\n",
    "import numpy as np\n",
    "import torch\n",
    "from torch import nn\n",
    "from torch.utils.data import TensorDataset, DataLoader\n",
    "\n",
    "# Read CSV with automatic encoding detection\n",
    "def read_csv_with_encoding(file):\n",
    "    for enc in ['utf-8', 'latin1', 'cp1252', 'gbk']:\n",
    "        try:\n",
    "            return pd.read_csv(file, encoding=enc)\n",
    "        except:\n",
    "            pass\n",
    "    raise ValueError(f\"Failed to read file: {file}\")\n",
    "\n",
    "# Load datasets\n",
    "df_match   = read_csv_with_encoding('WorldCupMatches.csv')\n",
    "df_summary = read_csv_with_encoding('WorldCupsSummary.csv')\n"
   ]
  },
  {
   "cell_type": "code",
   "execution_count": 12,
   "id": "84f6e1f7-91ad-47a4-9de9-49c202a06a35",
   "metadata": {},
   "outputs": [],
   "source": [
    "# ─── Cell 2: Feature Engineering + Merge ───────────────────────────────\n",
    "\n",
    "# Create target: 1 if home team wins, else 0\n",
    "df_match['home_win'] = (df_match['Hometeamgoals'] > df_match['Awayteamgoals']).astype(int)\n",
    "\n",
    "# Clean whitespace in relevant string columns\n",
    "for c in ['Winner', 'Second', 'Third', 'Fourth', 'HostCountry']:\n",
    "    df_summary[c] = df_summary[c].str.strip()\n",
    "for c in ['Hometeamname', 'Awayteamname']:\n",
    "    df_match[c] = df_match[c].str.strip()\n",
    "\n",
    "# Merge match data with tournament summary on 'Year'\n",
    "df = df_match.merge(df_summary, on='Year', how='left')\n",
    "\n",
    "# Add dynamic features based on match outcomes\n",
    "df['home_is_winner'] = (df['Hometeamname'] == df['Winner']).astype(int)\n",
    "df['away_is_winner'] = (df['Awayteamname'] == df['Winner']).astype(int)\n",
    "df['home_is_host']   = (df['Hometeamname'] == df['HostCountry']).astype(int)\n",
    "df['away_is_host']   = (df['Awayteamname'] == df['HostCountry']).astype(int)\n",
    "df['knockout']       = df['Stage'].apply(lambda x: 0 if 'Group' in str(x) or 'First' in str(x) else 1)\n",
    "\n",
    "# Flag strong teams\n",
    "strong = ['Brazil','Germany','Argentina','France','Italy','England','Spain','Netherlands','Portugal']\n",
    "df['home_strong'] = df['Hometeamname'].isin(strong).astype(int)\n",
    "df['away_strong'] = df['Awayteamname'].isin(strong).astype(int)\n",
    "\n",
    "# One-hot encode climate types (Köppen codes)\n",
    "df = pd.get_dummies(df, columns=['koppen_code'], drop_first=True)\n",
    "\n",
    "# Select final feature columns\n",
    "desired = [\n",
    "    'Attendance','knockout',\n",
    "    'home_is_winner','away_is_winner',\n",
    "    'home_is_host','away_is_host',\n",
    "    'home_strong','away_strong'\n",
    "]\n",
    "features = [c for c in desired if c in df.columns] + \\\n",
    "           [c for c in df.columns if c.startswith('koppen_code_')]\n",
    "\n",
    "# Drop rows with missing values in required features or target\n",
    "df = df.dropna(subset=features + ['home_win'])\n",
    "\n",
    "# Extract feature matrix and target vector\n",
    "X = df[features].values.astype(np.float32)\n",
    "y = df['home_win'].values.astype(np.int64)\n"
   ]
  },
  {
   "cell_type": "code",
   "execution_count": 13,
   "id": "49e2b3ba-b1c0-4cc0-acca-6aea79237591",
   "metadata": {},
   "outputs": [],
   "source": [
    "\n",
    "# Standardize 'Attendance' if present\n",
    "if 'Attendance' in features:\n",
    "    idx = features.index('Attendance')\n",
    "    mu, std = X[:, idx].mean(), X[:, idx].std()\n",
    "    X[:, idx] = (X[:, idx] - mu) / std\n",
    "\n",
    "# Convert numpy arrays to PyTorch tensors\n",
    "X_t = torch.from_numpy(X)\n",
    "y_t = torch.from_numpy(y)\n",
    "\n",
    "# Shuffle and split dataset: 80% train, 20% test\n",
    "n = len(X_t)\n",
    "idx = torch.randperm(n)\n",
    "split = int(n * 0.8)\n",
    "train_idx, test_idx = idx[:split], idx[split:]\n",
    "\n",
    "# Create datasets and data loaders\n",
    "train_ds = TensorDataset(X_t[train_idx], y_t[train_idx])\n",
    "test_ds  = TensorDataset(X_t[test_idx],  y_t[test_idx])\n",
    "train_dl = DataLoader(train_ds, batch_size=16, shuffle=True)\n",
    "test_dl  = DataLoader(test_ds,  batch_size=16)\n"
   ]
  },
  {
   "cell_type": "code",
   "execution_count": 14,
   "id": "c42d9ffc-71f6-490d-8970-1d15a02d16e4",
   "metadata": {},
   "outputs": [],
   "source": [
    "\n",
    "\n",
    "# Define a simple logistic regression model\n",
    "model = nn.Sequential(\n",
    "    nn.Linear(X.shape[1], 1),\n",
    "    nn.Sigmoid()\n",
    ")\n",
    "\n",
    "# Binary cross-entropy loss function\n",
    "loss_fn = nn.BCELoss()\n",
    "\n",
    "# Stochastic Gradient Descent optimizer\n",
    "opt = torch.optim.SGD(model.parameters(), lr=0.1)\n",
    "\n",
    "# Train for 100 epochs\n",
    "for epoch in range(100):\n",
    "    for xb, yb in train_dl:\n",
    "        preds = model(xb).squeeze(1)         # Predict probabilities\n",
    "        loss = loss_fn(preds, yb.float())    # Compute loss\n",
    "        opt.zero_grad()\n",
    "        loss.backward()\n",
    "        opt.step()\n"
   ]
  },
  {
   "cell_type": "code",
   "execution_count": 15,
   "id": "f2306063-d064-4a47-b9c9-33b869fa31a8",
   "metadata": {},
   "outputs": [
    {
     "name": "stdout",
     "output_type": "stream",
     "text": [
      "Confusion Matrix (tp, fp, fn, tn): (66, 55, 28, 31)\n",
      "Accuracy: 0.539  Precision: 0.545  Recall: 0.702  F1: 0.614\n"
     ]
    }
   ],
   "source": [
    "\n",
    "# Switch model to evaluation mode\n",
    "model.eval()\n",
    "with torch.no_grad():\n",
    "    # Get predictions for the test set\n",
    "    all_preds = torch.cat([model(xb).squeeze(1) for xb, _ in test_dl])\n",
    "    y_true    = torch.cat([yb for _, yb in test_dl])\n",
    "    y_pred    = (all_preds >= 0.5).long()  # Convert probabilities to class labels\n",
    "\n",
    "# Calculate confusion matrix components\n",
    "tp = ((y_true == 1) & (y_pred == 1)).sum().item()\n",
    "tn = ((y_true == 0) & (y_pred == 0)).sum().item()\n",
    "fp = ((y_true == 0) & (y_pred == 1)).sum().item()\n",
    "fn = ((y_true == 1) & (y_pred == 0)).sum().item()\n",
    "\n",
    "# Compute evaluation metrics\n",
    "acc  = (tp + tn) / len(y_true)                        # Accuracy\n",
    "prec = tp / (tp + fp) if (tp + fp) > 0 else 0         # Precision\n",
    "rec  = tp / (tp + fn) if (tp + fn) > 0 else 0         # Recall\n",
    "f1   = 2 * prec * rec / (prec + rec) if (prec + rec) > 0 else 0  # F1 Score\n",
    "\n",
    "# Print results\n",
    "print(\"Confusion Matrix (tp, fp, fn, tn):\", (tp, fp, fn, tn))\n",
    "print(f\"Accuracy: {acc:.3f}  Precision: {prec:.3f}  Recall: {rec:.3f}  F1: {f1:.3f}\")\n"
   ]
  },
  {
   "cell_type": "markdown",
   "id": "439f424e-39b9-4c81-952f-49c82f07ca78",
   "metadata": {},
   "source": [
    "The evaluation results show an accuracy of 53.9%, precision of 54.5%, recall of 70.2%, and an F1 score of 61.4%. This indicates that the model has a relatively strong ability to identify true home wins (high recall), but it also produces a high number of false positives, leading to a lower precision. Overall, the model tends to overpredict home team victories and has limited accuracy. There is room for improvement, such as incorporating more features, using a more complex model architecture, or switching to a more effective optimizer.\r\n"
   ]
  },
  {
   "cell_type": "code",
   "execution_count": 18,
   "id": "9363c2af-64bd-4609-b5f9-a7c353216079",
   "metadata": {},
   "outputs": [],
   "source": [
    "df_players = pd.read_csv('WorldCupPlayers.csv')"
   ]
  },
  {
   "cell_type": "code",
   "execution_count": 19,
   "id": "425e5cf6-5773-4a7f-a01a-daf059ea6664",
   "metadata": {},
   "outputs": [
    {
     "name": "stdout",
     "output_type": "stream",
     "text": [
      "Index(['RoundID', 'MatchID', 'Team Initials', 'Coach Name', 'Line-up',\n",
      "       'Shirt Number', 'Player Name', 'Position', 'Event'],\n",
      "      dtype='object')\n"
     ]
    },
    {
     "data": {
      "text/html": [
       "<div>\n",
       "<style scoped>\n",
       "    .dataframe tbody tr th:only-of-type {\n",
       "        vertical-align: middle;\n",
       "    }\n",
       "\n",
       "    .dataframe tbody tr th {\n",
       "        vertical-align: top;\n",
       "    }\n",
       "\n",
       "    .dataframe thead th {\n",
       "        text-align: right;\n",
       "    }\n",
       "</style>\n",
       "<table border=\"1\" class=\"dataframe\">\n",
       "  <thead>\n",
       "    <tr style=\"text-align: right;\">\n",
       "      <th></th>\n",
       "      <th>RoundID</th>\n",
       "      <th>MatchID</th>\n",
       "      <th>Team Initials</th>\n",
       "      <th>Coach Name</th>\n",
       "      <th>Line-up</th>\n",
       "      <th>Shirt Number</th>\n",
       "      <th>Player Name</th>\n",
       "      <th>Position</th>\n",
       "      <th>Event</th>\n",
       "    </tr>\n",
       "  </thead>\n",
       "  <tbody>\n",
       "    <tr>\n",
       "      <th>0</th>\n",
       "      <td>201</td>\n",
       "      <td>1096</td>\n",
       "      <td>FRA</td>\n",
       "      <td>CAUDRON Raoul (FRA)</td>\n",
       "      <td>S</td>\n",
       "      <td>0</td>\n",
       "      <td>Alex THEPOT</td>\n",
       "      <td>GK</td>\n",
       "      <td>NaN</td>\n",
       "    </tr>\n",
       "    <tr>\n",
       "      <th>1</th>\n",
       "      <td>201</td>\n",
       "      <td>1096</td>\n",
       "      <td>MEX</td>\n",
       "      <td>LUQUE Juan (MEX)</td>\n",
       "      <td>S</td>\n",
       "      <td>0</td>\n",
       "      <td>Oscar BONFIGLIO</td>\n",
       "      <td>GK</td>\n",
       "      <td>NaN</td>\n",
       "    </tr>\n",
       "    <tr>\n",
       "      <th>2</th>\n",
       "      <td>201</td>\n",
       "      <td>1096</td>\n",
       "      <td>FRA</td>\n",
       "      <td>CAUDRON Raoul (FRA)</td>\n",
       "      <td>S</td>\n",
       "      <td>0</td>\n",
       "      <td>Marcel LANGILLER</td>\n",
       "      <td>NaN</td>\n",
       "      <td>G40'</td>\n",
       "    </tr>\n",
       "    <tr>\n",
       "      <th>3</th>\n",
       "      <td>201</td>\n",
       "      <td>1096</td>\n",
       "      <td>MEX</td>\n",
       "      <td>LUQUE Juan (MEX)</td>\n",
       "      <td>S</td>\n",
       "      <td>0</td>\n",
       "      <td>Juan CARRENO</td>\n",
       "      <td>NaN</td>\n",
       "      <td>G70'</td>\n",
       "    </tr>\n",
       "    <tr>\n",
       "      <th>4</th>\n",
       "      <td>201</td>\n",
       "      <td>1096</td>\n",
       "      <td>FRA</td>\n",
       "      <td>CAUDRON Raoul (FRA)</td>\n",
       "      <td>S</td>\n",
       "      <td>0</td>\n",
       "      <td>Ernest LIBERATI</td>\n",
       "      <td>NaN</td>\n",
       "      <td>NaN</td>\n",
       "    </tr>\n",
       "  </tbody>\n",
       "</table>\n",
       "</div>"
      ],
      "text/plain": [
       "   RoundID  MatchID Team Initials           Coach Name Line-up  Shirt Number  \\\n",
       "0      201     1096           FRA  CAUDRON Raoul (FRA)       S             0   \n",
       "1      201     1096           MEX     LUQUE Juan (MEX)       S             0   \n",
       "2      201     1096           FRA  CAUDRON Raoul (FRA)       S             0   \n",
       "3      201     1096           MEX     LUQUE Juan (MEX)       S             0   \n",
       "4      201     1096           FRA  CAUDRON Raoul (FRA)       S             0   \n",
       "\n",
       "        Player Name Position Event  \n",
       "0       Alex THEPOT       GK   NaN  \n",
       "1   Oscar BONFIGLIO       GK   NaN  \n",
       "2  Marcel LANGILLER      NaN  G40'  \n",
       "3      Juan CARRENO      NaN  G70'  \n",
       "4   Ernest LIBERATI      NaN   NaN  "
      ]
     },
     "execution_count": 19,
     "metadata": {},
     "output_type": "execute_result"
    }
   ],
   "source": [
    "print(df_players.columns)\n",
    "df_players.hea"
   ]
  },
  {
   "cell_type": "code",
   "execution_count": 31,
   "id": "6e730823-3f21-44c5-a557-d7c57d179fa0",
   "metadata": {},
   "outputs": [
    {
     "name": "stdout",
     "output_type": "stream",
     "text": [
      " Manually Selected Star Players (Total: 10 ):\n",
      "\n",
      " 1. LUIS SUAREZ\n",
      " 2. FRANZ BECKENBAUER\n",
      " 3. PAOLO MALDINI\n",
      " 4. RONALDO\n",
      " 5. ZINEDINE ZIDANE\n",
      " 6. DAVID BECKHAM\n",
      " 7. XAVI\n",
      " 8. MESSI\n",
      " 9. C.RONALDO\n",
      "10. NEYMAR JR\n"
     ]
    }
   ],
   "source": [
    "# Clean and normalize player names\n",
    "df_players['Player Name'] = df_players['Player Name'].str.strip().str.upper()\n",
    "\n",
    "# Define manually matched star players based on actual names in the dataset\n",
    "manual_star_players = [\n",
    "    'MESSI', 'RONALDO', 'C.RONALDO', 'NEYMAR JR',\n",
    "    'LUIS SUAREZ', 'ZINEDINE ZIDANE',\n",
    "    'XAVI', 'DAVID BECKHAM', 'FRANZ BECKENBAUER', 'PAOLO MALDINI'\n",
    "]\n",
    "\n",
    "# Match and extract unique players\n",
    "star_players = df_players[df_players['Player Name'].isin(manual_star_players)]['Player Name'].unique().tolist()\n",
    "\n",
    "# Print result\n",
    "print(\" Manually Selected Star Players (Total:\", len(star_players), \"):\\n\")\n",
    "for i, player in enumerate(star_players, 1):\n",
    "    print(f\"{i:2d}. {player}\")\n"
   ]
  },
  {
   "cell_type": "code",
   "execution_count": 33,
   "id": "525b3f06-8c02-441a-a971-19479f8ef844",
   "metadata": {},
   "outputs": [],
   "source": [
    "import pandas as pd\n",
    "import numpy as np\n",
    "import torch\n",
    "from torch import nn\n",
    "from torch.utils.data import TensorDataset, DataLoader\n",
    "\n",
    "# Automatically detect encoding when reading CSV\n",
    "def read_csv_with_encoding(path):\n",
    "    for enc in ('utf-8','latin1','cp1252','gbk'):\n",
    "        try:\n",
    "            return pd.read_csv(path, encoding=enc)\n",
    "        except:\n",
    "            pass\n",
    "    raise IOError(f\"Cannot read file: {path}\")\n",
    "\n",
    "df_m = read_csv_with_encoding('WorldCupMatches.csv')\n",
    "df_s = read_csv_with_encoding('WorldCupsSummary.csv')\n",
    "df_p = read_csv_with_encoding('WorldCupPlayers.csv')\n"
   ]
  },
  {
   "cell_type": "code",
   "execution_count": 34,
   "id": "0876fa19-e6a0-4ae8-bdc4-6b487b0f1383",
   "metadata": {},
   "outputs": [],
   "source": [
    "# Create binary target variable\n",
    "df_m['home_win'] = (df_m['Hometeamgoals'] > df_m['Awayteamgoals']).astype(int)\n",
    "\n",
    "# Clean country name fields\n",
    "for c in ['Winner','Second','Third','Fourth','HostCountry']:\n",
    "    df_s[c] = df_s[c].str.strip()\n",
    "for c in ['Hometeamname','Awayteamname']:\n",
    "    df_m[c] = df_m[c].str.strip()\n",
    "\n",
    "# Merge match and tournament summary\n",
    "df = df_m.merge(df_s, on='Year', how='left')\n",
    "\n",
    "# Dynamic match features\n",
    "df['home_is_winner'] = (df['Hometeamname']==df['Winner']).astype(int)\n",
    "df['away_is_winner'] = (df['Awayteamname']==df['Winner']).astype(int)\n",
    "df['home_is_host']   = (df['Hometeamname']==df['HostCountry']).astype(int)\n",
    "df['away_is_host']   = (df['Awayteamname']==df['HostCountry']).astype(int)\n",
    "df['knockout']       = df['Stage'].apply(lambda x: 0 if 'Group' in str(x) or 'First' in str(x) else 1)\n",
    "\n",
    "# Flag strong teams\n",
    "strong = ['Brazil','Germany','Argentina','France','Italy','England','Spain','Netherlands','Portugal']\n",
    "df['home_strong'] = df['Hometeamname'].isin(strong).astype(int)\n",
    "df['away_strong'] = df['Awayteamname'].isin(strong).astype(int)\n"
   ]
  },
  {
   "cell_type": "code",
   "execution_count": 36,
   "id": "a458d6d5-fb6a-4499-8bca-eae54d1e7080",
   "metadata": {},
   "outputs": [
    {
     "name": "stdout",
     "output_type": "stream",
     "text": [
      "Index(['Year', 'Datetime', 'Stage', 'Stadium', 'City', 'Hometeamname',\n",
      "       'Hometeamgoals', 'Awayteamgoals', 'Awayteamname', 'Winconditions',\n",
      "       'Attendance_x', 'Halftimehomegoals', 'Halftimeawaygoals', 'Referee',\n",
      "       'Assistant1', 'Assistant2', 'Roundid', 'Matchid', 'Hometeaminitials',\n",
      "       'Awayteaminitials', 'latitude', 'longitude', 'koppen_code',\n",
      "       'koppen_desc', 'home_win', 'HostCountry', 'Winner', 'Second', 'Third',\n",
      "       'Fourth', 'GoalsScored', 'QualifiedTeams', 'MatchesPlayed',\n",
      "       'Attendance_y', 'HostContinent', 'WinnerContinent', 'home_is_winner',\n",
      "       'away_is_winner', 'home_is_host', 'away_is_host', 'knockout',\n",
      "       'home_strong', 'away_strong'],\n",
      "      dtype='object')\n"
     ]
    }
   ],
   "source": [
    "print(df.columns)"
   ]
  },
  {
   "cell_type": "code",
   "execution_count": 38,
   "id": "73635e84-7aba-479f-a193-a6adb1e84208",
   "metadata": {},
   "outputs": [],
   "source": [
    "\n",
    "df_p['Player Name'] = df_p['Player Name'].str.strip().str.upper()\n",
    "\n",
    "# Define list of manually selected star players\n",
    "manual_star_players = [\n",
    "    'MESSI', 'RONALDO', 'C.RONALDO', 'NEYMAR JR',\n",
    "    'LUIS SUAREZ', 'ZINEDINE ZIDANE', 'XAVI',\n",
    "    'DAVID BECKHAM', 'FRANZ BECKENBAUER', 'PAOLO MALDINI'\n",
    "]\n",
    "\n",
    "# Flag each row in the player dataset if the player is a star\n",
    "df_p['is_star'] = df_p['Player Name'].isin(manual_star_players).astype(int)\n",
    "\n",
    "# Extract home and away team initials along with Matchid and Year\n",
    "match_ids_home = df_m[['Matchid', 'Year', 'Hometeaminitials']].rename(columns={'Hometeaminitials': 'Team Initials'})\n",
    "match_ids_away = df_m[['Matchid', 'Year', 'Awayteaminitials']].rename(columns={'Awayteaminitials': 'Team Initials'})\n",
    "match_ids_all = pd.concat([match_ids_home, match_ids_away], ignore_index=True)\n",
    "\n",
    "# Merge Matchid and Year into the player dataset using team initials\n",
    "df_p = df_p.merge(match_ids_all.drop_duplicates(), on='Team Initials', how='left')\n",
    "\n",
    "star_counts = df_p[df_p['is_star'] == 1].groupby(['Matchid', 'Team Initials']).size().reset_index(name='star_player_count')\n",
    "\n",
    "\n",
    "# Merge for home team\n",
    "df = df.merge(\n",
    "    star_counts.rename(columns={\n",
    "        'Team Initials': 'Hometeaminitials',\n",
    "        'star_player_count': 'home_star_count'\n",
    "    }),\n",
    "    how='left',\n",
    "    on=['Matchid', 'Hometeaminitials']\n",
    ")\n",
    "\n",
    "# Merge for away team\n",
    "df = df.merge(\n",
    "    star_counts.rename(columns={\n",
    "        'Team Initials': 'Awayteaminitials',\n",
    "        'star_player_count': 'away_star_count'\n",
    "    }),\n",
    "    how='left',\n",
    "    on=['Matchid', 'Awayteaminitials']\n",
    ")\n",
    "\n",
    "# Fill missing values with 0 (no star players found)\n",
    "df['home_star_count'] = df['home_star_count'].fillna(0)\n",
    "df['away_star_count'] = df['away_star_count'].fillna(0)\n"
   ]
  },
  {
   "cell_type": "code",
   "execution_count": 39,
   "id": "f51aae51-b620-4b42-900d-c8a8ac3a880e",
   "metadata": {},
   "outputs": [],
   "source": [
    "# One-hot encode climate codes\n",
    "df = pd.get_dummies(df, columns=['koppen_code'], drop_first=True)\n",
    "\n",
    "# Final feature selection\n",
    "desired = [\n",
    "    'Attendance','knockout',\n",
    "    'home_is_winner','away_is_winner',\n",
    "    'home_is_host','away_is_host',\n",
    "    'home_strong','away_strong',\n",
    "    'home_star_count','away_star_count'\n",
    "]\n",
    "features = [c for c in desired if c in df.columns] + \\\n",
    "           [c for c in df.columns if c.startswith('koppen_code_')]\n",
    "\n",
    "# Clean rows with missing values\n",
    "df = df.dropna(subset=features + ['home_win'])\n",
    "\n",
    "X = df[features].values.astype(np.float32)\n",
    "y = df['home_win'].values.astype(np.int64)\n"
   ]
  },
  {
   "cell_type": "code",
   "execution_count": 40,
   "id": "59fe5eb8-d427-4a7b-8214-372207f0cb49",
   "metadata": {},
   "outputs": [],
   "source": [
    "# Train/test split\n",
    "np.random.seed(42)\n",
    "idx = np.random.permutation(len(X))\n",
    "split = int(len(X) * 0.8)\n",
    "train_idx, test_idx = idx[:split], idx[split:]\n",
    "X_train, X_test = X[train_idx], X[test_idx]\n",
    "y_train, y_test = y[train_idx], y[test_idx]\n",
    "\n",
    "# DataLoader\n",
    "train_ds = TensorDataset(torch.from_numpy(X_train), torch.from_numpy(y_train))\n",
    "test_ds  = TensorDataset(torch.from_numpy(X_test),  torch.from_numpy(y_test))\n",
    "train_dl = DataLoader(train_ds, batch_size=64, shuffle=True)\n",
    "test_dl  = DataLoader(test_ds, batch_size=64)\n"
   ]
  },
  {
   "cell_type": "code",
   "execution_count": 41,
   "id": "424349f8-0349-40c1-83e4-a46a7b4f4dff",
   "metadata": {},
   "outputs": [],
   "source": [
    "class LogisticRegressionModel(nn.Module):\n",
    "    def __init__(self, n_features):\n",
    "        super().__init__()\n",
    "        self.linear = nn.Linear(n_features, 1)\n",
    "    def forward(self, x):\n",
    "        return torch.sigmoid(self.linear(x))\n",
    "\n",
    "model = LogisticRegressionModel(X.shape[1])\n",
    "loss_fn = nn.BCELoss()\n",
    "opt = torch.optim.Adam(model.parameters(), lr=1e-2)\n",
    "\n",
    "# Training loop\n",
    "epochs = 100\n",
    "for epoch in range(epochs):\n",
    "    for xb, yb in train_dl:\n",
    "        pred = model(xb).squeeze()\n",
    "        loss = loss_fn(pred, yb.float())\n",
    "        opt.zero_grad(); loss.backward(); opt.step()\n"
   ]
  },
  {
   "cell_type": "code",
   "execution_count": 42,
   "id": "b86be8c2-fe2c-4159-9ffb-6eebb8f1c8a3",
   "metadata": {},
   "outputs": [
    {
     "name": "stdout",
     "output_type": "stream",
     "text": [
      "Confusion matrix (tp, fp, fn, tn): (84, 45, 22, 29)\n",
      "Accuracy: 0.628, Precision: 0.651, Recall: 0.792, F1: 0.715\n",
      "Log-loss: 0.624, Brier: 0.217\n",
      "\n"
     ]
    }
   ],
   "source": [
    "model.eval()\n",
    "with torch.no_grad():\n",
    "    probs = model(torch.from_numpy(X_test)).squeeze().numpy()\n",
    "    preds = (probs >= 0.5).astype(int)\n",
    "\n",
    "# Confusion matrix\n",
    "tp = np.sum((y_test==1)&(preds==1))\n",
    "tn = np.sum((y_test==0)&(preds==0))\n",
    "fp = np.sum((y_test==0)&(preds==1))\n",
    "fn = np.sum((y_test==1)&(preds==0))\n",
    "\n",
    "accuracy  = (tp+tn)/len(y_test)\n",
    "precision = tp/(tp+fp) if tp+fp > 0 else 0\n",
    "recall    = tp/(tp+fn) if tp+fn > 0 else 0\n",
    "f1        = 2*precision*recall/(precision+recall) if precision+recall > 0 else 0\n",
    "\n",
    "# Probabilistic metrics\n",
    "eps = 1e-15\n",
    "log_loss  = -np.mean(y_test*np.log(np.clip(probs,eps,1-eps)) + (1-y_test)*np.log(np.clip(1-probs,eps,1-eps)))\n",
    "brier     = np.mean((probs - y_test)**2)\n",
    "\n",
    "print(\"Confusion matrix (tp, fp, fn, tn):\", (tp, fp, fn, tn))\n",
    "print(f\"Accuracy: {accuracy:.3f}, Precision: {precision:.3f}, Recall: {recall:.3f}, F1: {f1:.3f}\")\n",
    "print(f\"Log-loss: {log_loss:.3f}, Brier: {brier:.3f}\\n\")\n"
   ]
  },
  {
   "cell_type": "code",
   "execution_count": 43,
   "id": "d3c0a8ca-e5e8-4744-a38a-1bb713c315f1",
   "metadata": {},
   "outputs": [
    {
     "name": "stdout",
     "output_type": "stream",
     "text": [
      "\n",
      "First 10 predicted probabilities vs actual results:\n",
      " 1. P(win)=0.762, Actual=1\n",
      " 2. P(win)=0.527, Actual=0\n",
      " 3. P(win)=0.522, Actual=0\n",
      " 4. P(win)=0.925, Actual=1\n",
      " 5. P(win)=0.630, Actual=1\n",
      " 6. P(win)=0.587, Actual=0\n",
      " 7. P(win)=0.799, Actual=1\n",
      " 8. P(win)=0.635, Actual=1\n",
      " 9. P(win)=0.587, Actual=0\n",
      "10. P(win)=0.303, Actual=0\n"
     ]
    }
   ],
   "source": [
    "print(\"\\nFirst 10 predicted probabilities vs actual results:\")\n",
    "for i, (p, t) in enumerate(zip(probs, y_test)):\n",
    "    if i == 10: break\n",
    "    print(f\"{i+1:2d}. P(win)={p:.3f}, Actual={t}\")\n"
   ]
  },
  {
   "cell_type": "code",
   "execution_count": 56,
   "id": "ade50412-813b-4052-a56b-5dff830f9552",
   "metadata": {},
   "outputs": [
    {
     "data": {
      "application/vnd.plotly.v1+json": {
       "config": {
        "plotlyServerURL": "https://plot.ly"
       },
       "data": [
        {
         "alignmentgroup": "True",
         "hovertemplate": "Coefficient Value=%{x}<br>Feature=%{y}<extra></extra>",
         "legendgroup": "",
         "marker": {
          "color": "#636efa",
          "pattern": {
           "shape": ""
          }
         },
         "name": "",
         "offsetgroup": "",
         "orientation": "h",
         "showlegend": false,
         "textposition": "auto",
         "type": "bar",
         "x": [
          -0.007416875567287207,
          0.009212479926645756,
          0.012367881834506989,
          -0.04996000602841377,
          0.1088409498333931,
          0.14954137802124023,
          0.1837390810251236,
          -0.2978290021419525,
          0.3085431754589081,
          0.33098623156547546,
          0.3385767936706543,
          0.3409442901611328,
          0.39410829544067383,
          0.4018625020980835,
          -0.4105554223060608,
          -0.4511769413948059,
          -0.4676988422870636,
          0.4718478322029114,
          -0.5891686081886292,
          0.7793421745300293,
          0.8820673227310181,
          -0.9421917200088501,
          1.4427261352539062,
          -2.8426198959350586
         ],
         "xaxis": "x",
         "y": [
          "koppen_code_BSk",
          "away_star",
          "home_star",
          "koppen_code_Dfa",
          "koppen_code_Csa",
          "koppen_code_Cfb",
          "koppen_code_Cwb",
          "koppen_code_BSh",
          "knockout",
          "koppen_code_Aw",
          "home_strong",
          "koppen_code_Dwa",
          "koppen_code_Cfa",
          "koppen_code_Am",
          "koppen_code_Cwa",
          "koppen_code_Csb",
          "koppen_code_Dfb",
          "home_is_winner",
          "koppen_code_As/Aw",
          "away_is_host",
          "away_is_winner",
          "away_strong",
          "koppen_code_BWh",
          "home_is_host"
         ],
         "yaxis": "y"
        }
       ],
       "layout": {
        "autosize": true,
        "barmode": "relative",
        "font": {
         "color": "lightgray",
         "size": 14
        },
        "legend": {
         "tracegroupgap": 0
        },
        "margin": {
         "b": 50,
         "l": 50,
         "r": 50,
         "t": 50
        },
        "paper_bgcolor": "rgba(0, 0, 0, 0)",
        "plot_bgcolor": "rgba(0, 0, 0, 0)",
        "shapes": [
         {
          "line": {
           "color": "lightgray",
           "dash": "dash"
          },
          "type": "line",
          "x0": 0,
          "x1": 0,
          "xref": "x",
          "y0": 0,
          "y1": 1,
          "yref": "y domain"
         }
        ],
        "template": {
         "data": {
          "bar": [
           {
            "error_x": {
             "color": "#f2f5fa"
            },
            "error_y": {
             "color": "#f2f5fa"
            },
            "marker": {
             "line": {
              "color": "rgb(17,17,17)",
              "width": 0.5
             },
             "pattern": {
              "fillmode": "overlay",
              "size": 10,
              "solidity": 0.2
             }
            },
            "type": "bar"
           }
          ],
          "barpolar": [
           {
            "marker": {
             "line": {
              "color": "rgb(17,17,17)",
              "width": 0.5
             },
             "pattern": {
              "fillmode": "overlay",
              "size": 10,
              "solidity": 0.2
             }
            },
            "type": "barpolar"
           }
          ],
          "carpet": [
           {
            "aaxis": {
             "endlinecolor": "#A2B1C6",
             "gridcolor": "#506784",
             "linecolor": "#506784",
             "minorgridcolor": "#506784",
             "startlinecolor": "#A2B1C6"
            },
            "baxis": {
             "endlinecolor": "#A2B1C6",
             "gridcolor": "#506784",
             "linecolor": "#506784",
             "minorgridcolor": "#506784",
             "startlinecolor": "#A2B1C6"
            },
            "type": "carpet"
           }
          ],
          "choropleth": [
           {
            "colorbar": {
             "outlinewidth": 0,
             "ticks": ""
            },
            "type": "choropleth"
           }
          ],
          "contour": [
           {
            "colorbar": {
             "outlinewidth": 0,
             "ticks": ""
            },
            "colorscale": [
             [
              0,
              "#0d0887"
             ],
             [
              0.1111111111111111,
              "#46039f"
             ],
             [
              0.2222222222222222,
              "#7201a8"
             ],
             [
              0.3333333333333333,
              "#9c179e"
             ],
             [
              0.4444444444444444,
              "#bd3786"
             ],
             [
              0.5555555555555556,
              "#d8576b"
             ],
             [
              0.6666666666666666,
              "#ed7953"
             ],
             [
              0.7777777777777778,
              "#fb9f3a"
             ],
             [
              0.8888888888888888,
              "#fdca26"
             ],
             [
              1,
              "#f0f921"
             ]
            ],
            "type": "contour"
           }
          ],
          "contourcarpet": [
           {
            "colorbar": {
             "outlinewidth": 0,
             "ticks": ""
            },
            "type": "contourcarpet"
           }
          ],
          "heatmap": [
           {
            "colorbar": {
             "outlinewidth": 0,
             "ticks": ""
            },
            "colorscale": [
             [
              0,
              "#0d0887"
             ],
             [
              0.1111111111111111,
              "#46039f"
             ],
             [
              0.2222222222222222,
              "#7201a8"
             ],
             [
              0.3333333333333333,
              "#9c179e"
             ],
             [
              0.4444444444444444,
              "#bd3786"
             ],
             [
              0.5555555555555556,
              "#d8576b"
             ],
             [
              0.6666666666666666,
              "#ed7953"
             ],
             [
              0.7777777777777778,
              "#fb9f3a"
             ],
             [
              0.8888888888888888,
              "#fdca26"
             ],
             [
              1,
              "#f0f921"
             ]
            ],
            "type": "heatmap"
           }
          ],
          "heatmapgl": [
           {
            "colorbar": {
             "outlinewidth": 0,
             "ticks": ""
            },
            "colorscale": [
             [
              0,
              "#0d0887"
             ],
             [
              0.1111111111111111,
              "#46039f"
             ],
             [
              0.2222222222222222,
              "#7201a8"
             ],
             [
              0.3333333333333333,
              "#9c179e"
             ],
             [
              0.4444444444444444,
              "#bd3786"
             ],
             [
              0.5555555555555556,
              "#d8576b"
             ],
             [
              0.6666666666666666,
              "#ed7953"
             ],
             [
              0.7777777777777778,
              "#fb9f3a"
             ],
             [
              0.8888888888888888,
              "#fdca26"
             ],
             [
              1,
              "#f0f921"
             ]
            ],
            "type": "heatmapgl"
           }
          ],
          "histogram": [
           {
            "marker": {
             "pattern": {
              "fillmode": "overlay",
              "size": 10,
              "solidity": 0.2
             }
            },
            "type": "histogram"
           }
          ],
          "histogram2d": [
           {
            "colorbar": {
             "outlinewidth": 0,
             "ticks": ""
            },
            "colorscale": [
             [
              0,
              "#0d0887"
             ],
             [
              0.1111111111111111,
              "#46039f"
             ],
             [
              0.2222222222222222,
              "#7201a8"
             ],
             [
              0.3333333333333333,
              "#9c179e"
             ],
             [
              0.4444444444444444,
              "#bd3786"
             ],
             [
              0.5555555555555556,
              "#d8576b"
             ],
             [
              0.6666666666666666,
              "#ed7953"
             ],
             [
              0.7777777777777778,
              "#fb9f3a"
             ],
             [
              0.8888888888888888,
              "#fdca26"
             ],
             [
              1,
              "#f0f921"
             ]
            ],
            "type": "histogram2d"
           }
          ],
          "histogram2dcontour": [
           {
            "colorbar": {
             "outlinewidth": 0,
             "ticks": ""
            },
            "colorscale": [
             [
              0,
              "#0d0887"
             ],
             [
              0.1111111111111111,
              "#46039f"
             ],
             [
              0.2222222222222222,
              "#7201a8"
             ],
             [
              0.3333333333333333,
              "#9c179e"
             ],
             [
              0.4444444444444444,
              "#bd3786"
             ],
             [
              0.5555555555555556,
              "#d8576b"
             ],
             [
              0.6666666666666666,
              "#ed7953"
             ],
             [
              0.7777777777777778,
              "#fb9f3a"
             ],
             [
              0.8888888888888888,
              "#fdca26"
             ],
             [
              1,
              "#f0f921"
             ]
            ],
            "type": "histogram2dcontour"
           }
          ],
          "mesh3d": [
           {
            "colorbar": {
             "outlinewidth": 0,
             "ticks": ""
            },
            "type": "mesh3d"
           }
          ],
          "parcoords": [
           {
            "line": {
             "colorbar": {
              "outlinewidth": 0,
              "ticks": ""
             }
            },
            "type": "parcoords"
           }
          ],
          "pie": [
           {
            "automargin": true,
            "type": "pie"
           }
          ],
          "scatter": [
           {
            "marker": {
             "line": {
              "color": "#283442"
             }
            },
            "type": "scatter"
           }
          ],
          "scatter3d": [
           {
            "line": {
             "colorbar": {
              "outlinewidth": 0,
              "ticks": ""
             }
            },
            "marker": {
             "colorbar": {
              "outlinewidth": 0,
              "ticks": ""
             }
            },
            "type": "scatter3d"
           }
          ],
          "scattercarpet": [
           {
            "marker": {
             "colorbar": {
              "outlinewidth": 0,
              "ticks": ""
             }
            },
            "type": "scattercarpet"
           }
          ],
          "scattergeo": [
           {
            "marker": {
             "colorbar": {
              "outlinewidth": 0,
              "ticks": ""
             }
            },
            "type": "scattergeo"
           }
          ],
          "scattergl": [
           {
            "marker": {
             "line": {
              "color": "#283442"
             }
            },
            "type": "scattergl"
           }
          ],
          "scattermapbox": [
           {
            "marker": {
             "colorbar": {
              "outlinewidth": 0,
              "ticks": ""
             }
            },
            "type": "scattermapbox"
           }
          ],
          "scatterpolar": [
           {
            "marker": {
             "colorbar": {
              "outlinewidth": 0,
              "ticks": ""
             }
            },
            "type": "scatterpolar"
           }
          ],
          "scatterpolargl": [
           {
            "marker": {
             "colorbar": {
              "outlinewidth": 0,
              "ticks": ""
             }
            },
            "type": "scatterpolargl"
           }
          ],
          "scatterternary": [
           {
            "marker": {
             "colorbar": {
              "outlinewidth": 0,
              "ticks": ""
             }
            },
            "type": "scatterternary"
           }
          ],
          "surface": [
           {
            "colorbar": {
             "outlinewidth": 0,
             "ticks": ""
            },
            "colorscale": [
             [
              0,
              "#0d0887"
             ],
             [
              0.1111111111111111,
              "#46039f"
             ],
             [
              0.2222222222222222,
              "#7201a8"
             ],
             [
              0.3333333333333333,
              "#9c179e"
             ],
             [
              0.4444444444444444,
              "#bd3786"
             ],
             [
              0.5555555555555556,
              "#d8576b"
             ],
             [
              0.6666666666666666,
              "#ed7953"
             ],
             [
              0.7777777777777778,
              "#fb9f3a"
             ],
             [
              0.8888888888888888,
              "#fdca26"
             ],
             [
              1,
              "#f0f921"
             ]
            ],
            "type": "surface"
           }
          ],
          "table": [
           {
            "cells": {
             "fill": {
              "color": "#506784"
             },
             "line": {
              "color": "rgb(17,17,17)"
             }
            },
            "header": {
             "fill": {
              "color": "#2a3f5f"
             },
             "line": {
              "color": "rgb(17,17,17)"
             }
            },
            "type": "table"
           }
          ]
         },
         "layout": {
          "annotationdefaults": {
           "arrowcolor": "#f2f5fa",
           "arrowhead": 0,
           "arrowwidth": 1
          },
          "autotypenumbers": "strict",
          "coloraxis": {
           "colorbar": {
            "outlinewidth": 0,
            "ticks": ""
           }
          },
          "colorscale": {
           "diverging": [
            [
             0,
             "#8e0152"
            ],
            [
             0.1,
             "#c51b7d"
            ],
            [
             0.2,
             "#de77ae"
            ],
            [
             0.3,
             "#f1b6da"
            ],
            [
             0.4,
             "#fde0ef"
            ],
            [
             0.5,
             "#f7f7f7"
            ],
            [
             0.6,
             "#e6f5d0"
            ],
            [
             0.7,
             "#b8e186"
            ],
            [
             0.8,
             "#7fbc41"
            ],
            [
             0.9,
             "#4d9221"
            ],
            [
             1,
             "#276419"
            ]
           ],
           "sequential": [
            [
             0,
             "#0d0887"
            ],
            [
             0.1111111111111111,
             "#46039f"
            ],
            [
             0.2222222222222222,
             "#7201a8"
            ],
            [
             0.3333333333333333,
             "#9c179e"
            ],
            [
             0.4444444444444444,
             "#bd3786"
            ],
            [
             0.5555555555555556,
             "#d8576b"
            ],
            [
             0.6666666666666666,
             "#ed7953"
            ],
            [
             0.7777777777777778,
             "#fb9f3a"
            ],
            [
             0.8888888888888888,
             "#fdca26"
            ],
            [
             1,
             "#f0f921"
            ]
           ],
           "sequentialminus": [
            [
             0,
             "#0d0887"
            ],
            [
             0.1111111111111111,
             "#46039f"
            ],
            [
             0.2222222222222222,
             "#7201a8"
            ],
            [
             0.3333333333333333,
             "#9c179e"
            ],
            [
             0.4444444444444444,
             "#bd3786"
            ],
            [
             0.5555555555555556,
             "#d8576b"
            ],
            [
             0.6666666666666666,
             "#ed7953"
            ],
            [
             0.7777777777777778,
             "#fb9f3a"
            ],
            [
             0.8888888888888888,
             "#fdca26"
            ],
            [
             1,
             "#f0f921"
            ]
           ]
          },
          "colorway": [
           "#636efa",
           "#EF553B",
           "#00cc96",
           "#ab63fa",
           "#FFA15A",
           "#19d3f3",
           "#FF6692",
           "#B6E880",
           "#FF97FF",
           "#FECB52"
          ],
          "font": {
           "color": "#f2f5fa"
          },
          "geo": {
           "bgcolor": "rgb(17,17,17)",
           "lakecolor": "rgb(17,17,17)",
           "landcolor": "rgb(17,17,17)",
           "showlakes": true,
           "showland": true,
           "subunitcolor": "#506784"
          },
          "hoverlabel": {
           "align": "left"
          },
          "hovermode": "closest",
          "mapbox": {
           "style": "dark"
          },
          "paper_bgcolor": "rgb(17,17,17)",
          "plot_bgcolor": "rgb(17,17,17)",
          "polar": {
           "angularaxis": {
            "gridcolor": "#506784",
            "linecolor": "#506784",
            "ticks": ""
           },
           "bgcolor": "rgb(17,17,17)",
           "radialaxis": {
            "gridcolor": "#506784",
            "linecolor": "#506784",
            "ticks": ""
           }
          },
          "scene": {
           "xaxis": {
            "backgroundcolor": "rgb(17,17,17)",
            "gridcolor": "#506784",
            "gridwidth": 2,
            "linecolor": "#506784",
            "showbackground": true,
            "ticks": "",
            "zerolinecolor": "#C8D4E3"
           },
           "yaxis": {
            "backgroundcolor": "rgb(17,17,17)",
            "gridcolor": "#506784",
            "gridwidth": 2,
            "linecolor": "#506784",
            "showbackground": true,
            "ticks": "",
            "zerolinecolor": "#C8D4E3"
           },
           "zaxis": {
            "backgroundcolor": "rgb(17,17,17)",
            "gridcolor": "#506784",
            "gridwidth": 2,
            "linecolor": "#506784",
            "showbackground": true,
            "ticks": "",
            "zerolinecolor": "#C8D4E3"
           }
          },
          "shapedefaults": {
           "line": {
            "color": "#f2f5fa"
           }
          },
          "sliderdefaults": {
           "bgcolor": "#C8D4E3",
           "bordercolor": "rgb(17,17,17)",
           "borderwidth": 1,
           "tickwidth": 0
          },
          "ternary": {
           "aaxis": {
            "gridcolor": "#506784",
            "linecolor": "#506784",
            "ticks": ""
           },
           "baxis": {
            "gridcolor": "#506784",
            "linecolor": "#506784",
            "ticks": ""
           },
           "bgcolor": "rgb(17,17,17)",
           "caxis": {
            "gridcolor": "#506784",
            "linecolor": "#506784",
            "ticks": ""
           }
          },
          "title": {
           "x": 0.05
          },
          "updatemenudefaults": {
           "bgcolor": "#506784",
           "borderwidth": 0
          },
          "xaxis": {
           "automargin": true,
           "gridcolor": "#283442",
           "linecolor": "#506784",
           "ticks": "",
           "title": {
            "standoff": 15
           },
           "zerolinecolor": "#283442",
           "zerolinewidth": 2
          },
          "yaxis": {
           "automargin": true,
           "gridcolor": "#283442",
           "linecolor": "#506784",
           "ticks": "",
           "title": {
            "standoff": 15
           },
           "zerolinecolor": "#283442",
           "zerolinewidth": 2
          }
         }
        },
        "title": {
         "font": {
          "color": "white",
          "size": 20
         },
         "text": "Feature Coefficients (Logistic Regression)"
        },
        "xaxis": {
         "anchor": "y",
         "autorange": true,
         "domain": [
          0,
          1
         ],
         "range": [
          -3.0806946754455566,
          1.6808009147644043
         ],
         "title": {
          "text": "Coefficient Value"
         },
         "type": "linear"
        },
        "yaxis": {
         "anchor": "x",
         "autorange": true,
         "domain": [
          0,
          1
         ],
         "range": [
          -0.5,
          23.5
         ],
         "title": {
          "text": "Feature"
         },
         "type": "category"
        }
       }
      },
      "image/png": "[encoded data removed]",
      "text/html": [
       "<div>                            <div id=\"1f74f555-7798-4344-9906-f25b186ce9ee\" class=\"plotly-graph-div\" style=\"height:525px; width:100%;\"></div>            <script type=\"text/javascript\">                require([\"plotly\"], function(Plotly) {                    window.PLOTLYENV=window.PLOTLYENV || {};                                    if (document.getElementById(\"1f74f555-7798-4344-9906-f25b186ce9ee\")) {                    Plotly.newPlot(                        \"1f74f555-7798-4344-9906-f25b186ce9ee\",                        [{\"alignmentgroup\":\"True\",\"hovertemplate\":\"Coefficient Value=%{x}\\u003cbr\\u003eFeature=%{y}\\u003cextra\\u003e\\u003c\\u002fextra\\u003e\",\"legendgroup\":\"\",\"marker\":{\"color\":\"#636efa\",\"pattern\":{\"shape\":\"\"}},\"name\":\"\",\"offsetgroup\":\"\",\"orientation\":\"h\",\"showlegend\":false,\"textposition\":\"auto\",\"x\":[-0.007416875567287207,0.009212479926645756,0.012367881834506989,-0.04996000602841377,0.1088409498333931,0.14954137802124023,0.1837390810251236,-0.2978290021419525,0.3085431754589081,0.33098623156547546,0.3385767936706543,0.3409442901611328,0.39410829544067383,0.4018625020980835,-0.4105554223060608,-0.4511769413948059,-0.4676988422870636,0.4718478322029114,-0.5891686081886292,0.7793421745300293,0.8820673227310181,-0.9421917200088501,1.4427261352539062,-2.8426198959350586],\"xaxis\":\"x\",\"y\":[\"koppen_code_BSk\",\"away_star\",\"home_star\",\"koppen_code_Dfa\",\"koppen_code_Csa\",\"koppen_code_Cfb\",\"koppen_code_Cwb\",\"koppen_code_BSh\",\"knockout\",\"koppen_code_Aw\",\"home_strong\",\"koppen_code_Dwa\",\"koppen_code_Cfa\",\"koppen_code_Am\",\"koppen_code_Cwa\",\"koppen_code_Csb\",\"koppen_code_Dfb\",\"home_is_winner\",\"koppen_code_As\\u002fAw\",\"away_is_host\",\"away_is_winner\",\"away_strong\",\"koppen_code_BWh\",\"home_is_host\"],\"yaxis\":\"y\",\"type\":\"bar\"}],                        {\"template\":{\"data\":{\"barpolar\":[{\"marker\":{\"line\":{\"color\":\"rgb(17,17,17)\",\"width\":0.5},\"pattern\":{\"fillmode\":\"overlay\",\"size\":10,\"solidity\":0.2}},\"type\":\"barpolar\"}],\"bar\":[{\"error_x\":{\"color\":\"#f2f5fa\"},\"error_y\":{\"color\":\"#f2f5fa\"},\"marker\":{\"line\":{\"color\":\"rgb(17,17,17)\",\"width\":0.5},\"pattern\":{\"fillmode\":\"overlay\",\"size\":10,\"solidity\":0.2}},\"type\":\"bar\"}],\"carpet\":[{\"aaxis\":{\"endlinecolor\":\"#A2B1C6\",\"gridcolor\":\"#506784\",\"linecolor\":\"#506784\",\"minorgridcolor\":\"#506784\",\"startlinecolor\":\"#A2B1C6\"},\"baxis\":{\"endlinecolor\":\"#A2B1C6\",\"gridcolor\":\"#506784\",\"linecolor\":\"#506784\",\"minorgridcolor\":\"#506784\",\"startlinecolor\":\"#A2B1C6\"},\"type\":\"carpet\"}],\"choropleth\":[{\"colorbar\":{\"outlinewidth\":0,\"ticks\":\"\"},\"type\":\"choropleth\"}],\"contourcarpet\":[{\"colorbar\":{\"outlinewidth\":0,\"ticks\":\"\"},\"type\":\"contourcarpet\"}],\"contour\":[{\"colorbar\":{\"outlinewidth\":0,\"ticks\":\"\"},\"colorscale\":[[0.0,\"#0d0887\"],[0.1111111111111111,\"#46039f\"],[0.2222222222222222,\"#7201a8\"],[0.3333333333333333,\"#9c179e\"],[0.4444444444444444,\"#bd3786\"],[0.5555555555555556,\"#d8576b\"],[0.6666666666666666,\"#ed7953\"],[0.7777777777777778,\"#fb9f3a\"],[0.8888888888888888,\"#fdca26\"],[1.0,\"#f0f921\"]],\"type\":\"contour\"}],\"heatmapgl\":[{\"colorbar\":{\"outlinewidth\":0,\"ticks\":\"\"},\"colorscale\":[[0.0,\"#0d0887\"],[0.1111111111111111,\"#46039f\"],[0.2222222222222222,\"#7201a8\"],[0.3333333333333333,\"#9c179e\"],[0.4444444444444444,\"#bd3786\"],[0.5555555555555556,\"#d8576b\"],[0.6666666666666666,\"#ed7953\"],[0.7777777777777778,\"#fb9f3a\"],[0.8888888888888888,\"#fdca26\"],[1.0,\"#f0f921\"]],\"type\":\"heatmapgl\"}],\"heatmap\":[{\"colorbar\":{\"outlinewidth\":0,\"ticks\":\"\"},\"colorscale\":[[0.0,\"#0d0887\"],[0.1111111111111111,\"#46039f\"],[0.2222222222222222,\"#7201a8\"],[0.3333333333333333,\"#9c179e\"],[0.4444444444444444,\"#bd3786\"],[0.5555555555555556,\"#d8576b\"],[0.6666666666666666,\"#ed7953\"],[0.7777777777777778,\"#fb9f3a\"],[0.8888888888888888,\"#fdca26\"],[1.0,\"#f0f921\"]],\"type\":\"heatmap\"}],\"histogram2dcontour\":[{\"colorbar\":{\"outlinewidth\":0,\"ticks\":\"\"},\"colorscale\":[[0.0,\"#0d0887\"],[0.1111111111111111,\"#46039f\"],[0.2222222222222222,\"#7201a8\"],[0.3333333333333333,\"#9c179e\"],[0.4444444444444444,\"#bd3786\"],[0.5555555555555556,\"#d8576b\"],[0.6666666666666666,\"#ed7953\"],[0.7777777777777778,\"#fb9f3a\"],[0.8888888888888888,\"#fdca26\"],[1.0,\"#f0f921\"]],\"type\":\"histogram2dcontour\"}],\"histogram2d\":[{\"colorbar\":{\"outlinewidth\":0,\"ticks\":\"\"},\"colorscale\":[[0.0,\"#0d0887\"],[0.1111111111111111,\"#46039f\"],[0.2222222222222222,\"#7201a8\"],[0.3333333333333333,\"#9c179e\"],[0.4444444444444444,\"#bd3786\"],[0.5555555555555556,\"#d8576b\"],[0.6666666666666666,\"#ed7953\"],[0.7777777777777778,\"#fb9f3a\"],[0.8888888888888888,\"#fdca26\"],[1.0,\"#f0f921\"]],\"type\":\"histogram2d\"}],\"histogram\":[{\"marker\":{\"pattern\":{\"fillmode\":\"overlay\",\"size\":10,\"solidity\":0.2}},\"type\":\"histogram\"}],\"mesh3d\":[{\"colorbar\":{\"outlinewidth\":0,\"ticks\":\"\"},\"type\":\"mesh3d\"}],\"parcoords\":[{\"line\":{\"colorbar\":{\"outlinewidth\":0,\"ticks\":\"\"}},\"type\":\"parcoords\"}],\"pie\":[{\"automargin\":true,\"type\":\"pie\"}],\"scatter3d\":[{\"line\":{\"colorbar\":{\"outlinewidth\":0,\"ticks\":\"\"}},\"marker\":{\"colorbar\":{\"outlinewidth\":0,\"ticks\":\"\"}},\"type\":\"scatter3d\"}],\"scattercarpet\":[{\"marker\":{\"colorbar\":{\"outlinewidth\":0,\"ticks\":\"\"}},\"type\":\"scattercarpet\"}],\"scattergeo\":[{\"marker\":{\"colorbar\":{\"outlinewidth\":0,\"ticks\":\"\"}},\"type\":\"scattergeo\"}],\"scattergl\":[{\"marker\":{\"line\":{\"color\":\"#283442\"}},\"type\":\"scattergl\"}],\"scattermapbox\":[{\"marker\":{\"colorbar\":{\"outlinewidth\":0,\"ticks\":\"\"}},\"type\":\"scattermapbox\"}],\"scatterpolargl\":[{\"marker\":{\"colorbar\":{\"outlinewidth\":0,\"ticks\":\"\"}},\"type\":\"scatterpolargl\"}],\"scatterpolar\":[{\"marker\":{\"colorbar\":{\"outlinewidth\":0,\"ticks\":\"\"}},\"type\":\"scatterpolar\"}],\"scatter\":[{\"marker\":{\"line\":{\"color\":\"#283442\"}},\"type\":\"scatter\"}],\"scatterternary\":[{\"marker\":{\"colorbar\":{\"outlinewidth\":0,\"ticks\":\"\"}},\"type\":\"scatterternary\"}],\"surface\":[{\"colorbar\":{\"outlinewidth\":0,\"ticks\":\"\"},\"colorscale\":[[0.0,\"#0d0887\"],[0.1111111111111111,\"#46039f\"],[0.2222222222222222,\"#7201a8\"],[0.3333333333333333,\"#9c179e\"],[0.4444444444444444,\"#bd3786\"],[0.5555555555555556,\"#d8576b\"],[0.6666666666666666,\"#ed7953\"],[0.7777777777777778,\"#fb9f3a\"],[0.8888888888888888,\"#fdca26\"],[1.0,\"#f0f921\"]],\"type\":\"surface\"}],\"table\":[{\"cells\":{\"fill\":{\"color\":\"#506784\"},\"line\":{\"color\":\"rgb(17,17,17)\"}},\"header\":{\"fill\":{\"color\":\"#2a3f5f\"},\"line\":{\"color\":\"rgb(17,17,17)\"}},\"type\":\"table\"}]},\"layout\":{\"annotationdefaults\":{\"arrowcolor\":\"#f2f5fa\",\"arrowhead\":0,\"arrowwidth\":1},\"autotypenumbers\":\"strict\",\"coloraxis\":{\"colorbar\":{\"outlinewidth\":0,\"ticks\":\"\"}},\"colorscale\":{\"diverging\":[[0,\"#8e0152\"],[0.1,\"#c51b7d\"],[0.2,\"#de77ae\"],[0.3,\"#f1b6da\"],[0.4,\"#fde0ef\"],[0.5,\"#f7f7f7\"],[0.6,\"#e6f5d0\"],[0.7,\"#b8e186\"],[0.8,\"#7fbc41\"],[0.9,\"#4d9221\"],[1,\"#276419\"]],\"sequential\":[[0.0,\"#0d0887\"],[0.1111111111111111,\"#46039f\"],[0.2222222222222222,\"#7201a8\"],[0.3333333333333333,\"#9c179e\"],[0.4444444444444444,\"#bd3786\"],[0.5555555555555556,\"#d8576b\"],[0.6666666666666666,\"#ed7953\"],[0.7777777777777778,\"#fb9f3a\"],[0.8888888888888888,\"#fdca26\"],[1.0,\"#f0f921\"]],\"sequentialminus\":[[0.0,\"#0d0887\"],[0.1111111111111111,\"#46039f\"],[0.2222222222222222,\"#7201a8\"],[0.3333333333333333,\"#9c179e\"],[0.4444444444444444,\"#bd3786\"],[0.5555555555555556,\"#d8576b\"],[0.6666666666666666,\"#ed7953\"],[0.7777777777777778,\"#fb9f3a\"],[0.8888888888888888,\"#fdca26\"],[1.0,\"#f0f921\"]]},\"colorway\":[\"#636efa\",\"#EF553B\",\"#00cc96\",\"#ab63fa\",\"#FFA15A\",\"#19d3f3\",\"#FF6692\",\"#B6E880\",\"#FF97FF\",\"#FECB52\"],\"font\":{\"color\":\"#f2f5fa\"},\"geo\":{\"bgcolor\":\"rgb(17,17,17)\",\"lakecolor\":\"rgb(17,17,17)\",\"landcolor\":\"rgb(17,17,17)\",\"showlakes\":true,\"showland\":true,\"subunitcolor\":\"#506784\"},\"hoverlabel\":{\"align\":\"left\"},\"hovermode\":\"closest\",\"mapbox\":{\"style\":\"dark\"},\"paper_bgcolor\":\"rgb(17,17,17)\",\"plot_bgcolor\":\"rgb(17,17,17)\",\"polar\":{\"angularaxis\":{\"gridcolor\":\"#506784\",\"linecolor\":\"#506784\",\"ticks\":\"\"},\"bgcolor\":\"rgb(17,17,17)\",\"radialaxis\":{\"gridcolor\":\"#506784\",\"linecolor\":\"#506784\",\"ticks\":\"\"}},\"scene\":{\"xaxis\":{\"backgroundcolor\":\"rgb(17,17,17)\",\"gridcolor\":\"#506784\",\"gridwidth\":2,\"linecolor\":\"#506784\",\"showbackground\":true,\"ticks\":\"\",\"zerolinecolor\":\"#C8D4E3\"},\"yaxis\":{\"backgroundcolor\":\"rgb(17,17,17)\",\"gridcolor\":\"#506784\",\"gridwidth\":2,\"linecolor\":\"#506784\",\"showbackground\":true,\"ticks\":\"\",\"zerolinecolor\":\"#C8D4E3\"},\"zaxis\":{\"backgroundcolor\":\"rgb(17,17,17)\",\"gridcolor\":\"#506784\",\"gridwidth\":2,\"linecolor\":\"#506784\",\"showbackground\":true,\"ticks\":\"\",\"zerolinecolor\":\"#C8D4E3\"}},\"shapedefaults\":{\"line\":{\"color\":\"#f2f5fa\"}},\"sliderdefaults\":{\"bgcolor\":\"#C8D4E3\",\"bordercolor\":\"rgb(17,17,17)\",\"borderwidth\":1,\"tickwidth\":0},\"ternary\":{\"aaxis\":{\"gridcolor\":\"#506784\",\"linecolor\":\"#506784\",\"ticks\":\"\"},\"baxis\":{\"gridcolor\":\"#506784\",\"linecolor\":\"#506784\",\"ticks\":\"\"},\"bgcolor\":\"rgb(17,17,17)\",\"caxis\":{\"gridcolor\":\"#506784\",\"linecolor\":\"#506784\",\"ticks\":\"\"}},\"title\":{\"x\":0.05},\"updatemenudefaults\":{\"bgcolor\":\"#506784\",\"borderwidth\":0},\"xaxis\":{\"automargin\":true,\"gridcolor\":\"#283442\",\"linecolor\":\"#506784\",\"ticks\":\"\",\"title\":{\"standoff\":15},\"zerolinecolor\":\"#283442\",\"zerolinewidth\":2},\"yaxis\":{\"automargin\":true,\"gridcolor\":\"#283442\",\"linecolor\":\"#506784\",\"ticks\":\"\",\"title\":{\"standoff\":15},\"zerolinecolor\":\"#283442\",\"zerolinewidth\":2}}},\"xaxis\":{\"anchor\":\"y\",\"domain\":[0.0,1.0],\"title\":{\"text\":\"Coefficient Value\"}},\"yaxis\":{\"anchor\":\"x\",\"domain\":[0.0,1.0],\"title\":{\"text\":\"Feature\"}},\"legend\":{\"tracegroupgap\":0},\"title\":{\"text\":\"Feature Coefficients (Logistic Regression)\",\"font\":{\"color\":\"white\",\"size\":20}},\"barmode\":\"relative\",\"shapes\":[{\"line\":{\"color\":\"lightgray\",\"dash\":\"dash\"},\"type\":\"line\",\"x0\":0,\"x1\":0,\"xref\":\"x\",\"y0\":0,\"y1\":1,\"yref\":\"y domain\"}],\"font\":{\"color\":\"lightgray\",\"size\":14},\"margin\":{\"l\":50,\"r\":50,\"t\":50,\"b\":50},\"plot_bgcolor\":\"rgba(0,0,0,0)\",\"paper_bgcolor\":\"rgba(0,0,0,0)\",\"autosize\":true},                        {\"responsive\": true}                    ).then(function(){\n",
       "                            \n",
       "var gd = document.getElementById('1f74f555-7798-4344-9906-f25b186ce9ee');\n",
       "var x = new MutationObserver(function (mutations, observer) {{\n",
       "        var display = window.getComputedStyle(gd).display;\n",
       "        if (!display || display === 'none') {{\n",
       "            console.log([gd, 'removed!']);\n",
       "            Plotly.purge(gd);\n",
       "            observer.disconnect();\n",
       "        }}\n",
       "}});\n",
       "\n",
       "// Listen for the removal of the full notebook cells\n",
       "var notebookContainer = gd.closest('#notebook-container');\n",
       "if (notebookContainer) {{\n",
       "    x.observe(notebookContainer, {childList: true});\n",
       "}}\n",
       "\n",
       "// Listen for the clearing of the current output cell\n",
       "var outputEl = gd.closest('.output');\n",
       "if (outputEl) {{\n",
       "    x.observe(outputEl, {childList: true});\n",
       "}}\n",
       "\n",
       "                        })                };                });            </script>        </div>"
      ]
     },
     "metadata": {},
     "output_type": "display_data"
    }
   ],
   "source": [
    "import pandas as pd\n",
    "import plotly.express as px\n",
    "\n",
    "# Extract model weights and match them to feature names\n",
    "weights = model.linear.weight.detach().numpy().flatten()\n",
    "dfw = pd.DataFrame({\n",
    "    'feature': features,\n",
    "    'coef': weights\n",
    "})\n",
    "\n",
    "# Calculate absolute values for sorting\n",
    "dfw['abs_coef'] = dfw['coef'].abs()\n",
    "dfw = dfw.sort_values('abs_coef', ascending=True)\n",
    "\n",
    "# Create an interactive horizontal bar chart using Plotly\n",
    "fig = px.bar(\n",
    "    dfw,\n",
    "    x='coef',\n",
    "    y='feature',\n",
    "    orientation='h',\n",
    "    title=\"Feature Coefficients (Logistic Regression)\",\n",
    "    labels={'coef': 'Coefficient Value', 'feature': 'Feature'},\n",
    "    template='plotly_dark'  # dark theme with light text\n",
    ")\n",
    "\n",
    "# Add a vertical reference line at x = 0\n",
    "fig.add_vline(x=0, line_dash='dash', line_color='lightgray')\n",
    "\n",
    "# Customize layout for transparent background and light font\n",
    "fig.update_layout(\n",
    "    title_font=dict(color='white', size=20),\n",
    "    font=dict(color='lightgray', size=14),\n",
    "    plot_bgcolor='rgba(0,0,0,0)',     # transparent plot area\n",
    "    paper_bgcolor='rgba(0,0,0,0)',    # transparent overall background\n",
    "    autosize=True,\n",
    "    margin=dict(l=50, r=50, t=50, b=50)\n",
    ")\n",
    "\n",
    "# Save the plot as a responsive, standalone HTML file\n",
    "fig.write_html(\"feature_coefficients.html\", full_html=True, include_plotlyjs='cdn')\n",
    "fig.show()"
   ]
  },
  {
   "cell_type": "markdown",
   "id": "39d58e12-5374-483f-ae1b-98679cc9c1d6",
   "metadata": {},
   "source": [
    " Model Performance Interpretation (based on results)\n",
    "The model demonstrates solid overall performance in predicting World Cup match outcomes, particularly with strong ability to identify home team victories.\n",
    "\n",
    "Confusion Matrix Summary:\n",
    "The matrix shows how the model performed on the test set:\n",
    "\n",
    "In 84 matches, the home team actually won and was correctly predicted (True Positives).\n",
    "\n",
    "In 29 matches, the home team lost and was correctly predicted (True Negatives).\n",
    "\n",
    "In 45 matches, the model incorrectly predicted a home team win (False Positives).\n",
    "\n",
    "In 22 matches, the model underestimated the home team, which actually won (False Negatives).\n",
    "\n",
    "This indicates that the model is particularly effective at recognizing cases where the home team is likely to win, as reflected by its high recall.\n",
    "\n",
    "Top 10 Prediction Summary:\n",
    "The prediction results show that for most matches where the model predicted a win probability above 0.6, the home team indeed won (e.g., P=0.762, 0.925).\n",
    "The incorrect predictions mostly occurred around probability values close to 0.5, where the model itself expresses uncertainty.\n",
    "Meanwhile, the model correctly identified at least one clear case where the home team lost (e.g., P=0.303), showing that it retains some ability to discriminate in both directions\n",
    " Overall Summary:\n",
    "By incorporating the number of star players as a feature, the model not only improved its recall, but also showed a more confident distribution of predictions. It was better able to identify matches where the home team had a clear advantage—such as the presence of star players—thus improving the overall reliability and interpretability of its predictions."
   ]
  },
  {
   "cell_type": "code",
   "execution_count": null,
   "id": "e5dd4ca0-4998-4b64-ac1c-d8cb20198b2d",
   "metadata": {},
   "outputs": [],
   "source": []
  },
  {
   "cell_type": "markdown",
   "id": "2c0d1516-f2e2-4200-b749-fd283a8f4449",
   "metadata": {},
   "source": [
    "**Random Forest**"
   ]
  },
  {
   "cell_type": "code",
   "execution_count": 53,
   "id": "5fc1fbf6-1463-4449-91d6-ada03de10542",
   "metadata": {},
   "outputs": [
    {
     "name": "stdout",
     "output_type": "stream",
     "text": [
      "Final features used for modeling: ['home_is_winner', 'away_is_winner', 'home_is_host', 'away_is_host', 'knockout', 'home_strong', 'away_strong', 'home_star', 'away_star', 'koppen_code_Am', 'koppen_code_As/Aw', 'koppen_code_Aw', 'koppen_code_BSh', 'koppen_code_BSk', 'koppen_code_BWh', 'koppen_code_Cfa', 'koppen_code_Cfb', 'koppen_code_Csa', 'koppen_code_Csb', 'koppen_code_Cwa', 'koppen_code_Cwb', 'koppen_code_Dfa', 'koppen_code_Dfb', 'koppen_code_Dwa']\n"
     ]
    }
   ],
   "source": [
    "# ─── Cell 1: Load & Prepare Features (with star players) ──────────────────────────────\n",
    "import pandas as pd\n",
    "import numpy as np\n",
    "\n",
    "# Read match data and tournament summary\n",
    "df_match   = read_csv_with_encoding('WorldCupMatches.csv')\n",
    "df_summary = read_csv_with_encoding('WorldCupsSummary.csv')\n",
    "df_players = pd.read_csv('WorldCupPlayers.csv')  # <-- Make sure this file exists\n",
    "\n",
    "# Clean team names\n",
    "for c in ['Winner','Second','Third','Fourth','HostCountry']:\n",
    "    df_summary[c] = df_summary[c].astype(str).str.strip()\n",
    "for c in ['Hometeamname','Awayteamname','Hometeaminitials','Awayteaminitials']:\n",
    "    df_match[c] = df_match[c].astype(str).str.strip()\n",
    "\n",
    "# Merge match and summary data\n",
    "df = df_match.merge(df_summary, on='Year', how='left')\n",
    "df['home_win'] = (df['Hometeamgoals'] > df['Awayteamgoals']).astype(int)\n",
    "\n",
    "# ─── Add Star Player Features ─────────────────────────────────────────────\n",
    "df_players['Player Name'] = df_players['Player Name'].str.strip().str.upper()\n",
    "\n",
    "# Define a manual list of well-known star players\n",
    "manual_star_players = [\n",
    "    'MESSI', 'RONALDO', 'C.RONALDO', 'NEYMAR JR',\n",
    "    'LUIS SUAREZ', 'ZINEDINE ZIDANE', 'XAVI',\n",
    "    'DAVID BECKHAM', 'FRANZ BECKENBAUER', 'PAOLO MALDINI'\n",
    "]\n",
    "df_players['is_star'] = df_players['Player Name'].isin(manual_star_players).astype(int)\n",
    "\n",
    "# Map MatchID to player teams\n",
    "match_ids_home = df[['Matchid', 'Hometeaminitials']].drop_duplicates().rename(columns={'Hometeaminitials': 'Team Initials'})\n",
    "match_ids_away = df[['Matchid', 'Awayteaminitials']].drop_duplicates().rename(columns={'Awayteaminitials': 'Team Initials'})\n",
    "match_ids_all = pd.concat([match_ids_home, match_ids_away], ignore_index=True).drop_duplicates()\n",
    "df_players = df_players.merge(match_ids_all, on='Team Initials', how='left')\n",
    "\n",
    "# Count number of star players per match/team\n",
    "star_counts = df_players[df_players['is_star'] == 1].groupby(['Matchid', 'Team Initials']).size().reset_index(name='star_count')\n",
    "\n",
    "# Merge into main DataFrame\n",
    "df = df.merge(\n",
    "    star_counts.rename(columns={'Team Initials': 'Hometeaminitials', 'star_count': 'home_star'}),\n",
    "    how='left', on=['Matchid', 'Hometeaminitials']\n",
    ")\n",
    "df = df.merge(\n",
    "    star_counts.rename(columns={'Team Initials': 'Awayteaminitials', 'star_count': 'away_star'}),\n",
    "    how='left', on=['Matchid', 'Awayteaminitials']\n",
    ")\n",
    "df['home_star'] = df['home_star'].fillna(0)\n",
    "df['away_star'] = df['away_star'].fillna(0)\n",
    "\n",
    "# ─── Construct other features ─────────────────────────────────────────────\n",
    "df['home_is_winner'] = (df['Hometeamname'] == df['Winner']).astype(int)\n",
    "df['away_is_winner'] = (df['Awayteamname'] == df['Winner']).astype(int)\n",
    "df['home_is_host']   = (df['Hometeamname'] == df['HostCountry']).astype(int)\n",
    "df['away_is_host']   = (df['Awayteamname'] == df['HostCountry']).astype(int)\n",
    "df['knockout'] = df['Stage'].apply(lambda x: 0 if 'Group' in str(x) else 1)\n",
    "\n",
    "strong = ['Brazil','Germany','Argentina','France','Italy','England','Spain','Netherlands','Portugal']\n",
    "df['home_strong'] = df['Hometeamname'].isin(strong).astype(int)\n",
    "df['away_strong'] = df['Awayteamname'].isin(strong).astype(int)\n",
    "\n",
    "# One-hot encode climate codes\n",
    "df = pd.get_dummies(df, columns=['koppen_code'], drop_first=True)\n",
    "\n",
    "# 1) Full feature list\n",
    "raw_feats = [\n",
    "    'home_is_winner','away_is_winner',\n",
    "    'home_is_host','away_is_host',\n",
    "    'knockout','home_strong','away_strong',\n",
    "    'home_star','away_star',\n",
    "    'home_high_fans','away_high_fans'  # if available\n",
    "] + [c for c in df.columns if c.startswith('koppen_code_')]\n",
    "\n",
    "# 2) Keep only columns that exist in the DataFrame\n",
    "features = [f for f in raw_feats if f in df.columns]\n",
    "print(\"Final features used for modeling:\", features)\n",
    "\n",
    "# 3) Drop rows with missing values in features or target\n",
    "df = df.dropna(subset=features + ['home_win'])\n",
    "\n",
    "# 4) Build X and y\n",
    "X = df[features].values.astype(np.float32)\n",
    "y = df['home_win'].values.astype(int)\n"
   ]
  },
  {
   "cell_type": "code",
   "execution_count": 57,
   "id": "60dbeeb5-2536-463e-933f-4b83c4f296ae",
   "metadata": {},
   "outputs": [
    {
     "name": "stdout",
     "output_type": "stream",
     "text": [
      "Accuracy: 0.6277777777777778\n",
      "Precision: 0.660377358490566\n",
      "Recall: 0.693069306930693\n",
      "F1 Score: 0.6763285024154589\n",
      "\n",
      "Classification Report:\n",
      "               precision    recall  f1-score   support\n",
      "\n",
      "           0       0.58      0.54      0.56        79\n",
      "           1       0.66      0.69      0.68       101\n",
      "\n",
      "    accuracy                           0.63       180\n",
      "   macro avg       0.62      0.62      0.62       180\n",
      "weighted avg       0.63      0.63      0.63       180\n",
      "\n"
     ]
    }
   ],
   "source": [
    "from sklearn.ensemble import RandomForestClassifier\n",
    "from sklearn.model_selection import train_test_split\n",
    "from sklearn.metrics import (\n",
    "    accuracy_score, precision_score, recall_score,\n",
    "    f1_score, confusion_matrix, classification_report\n",
    ")\n",
    "import matplotlib.pyplot as plt\n",
    "import seaborn as sns\n",
    "\n",
    "# 1. Split into train and test sets\n",
    "X_train, X_test, y_train, y_test = train_test_split(\n",
    "    X, y, test_size=0.2, random_state=42, stratify=y\n",
    ")\n",
    "\n",
    "# 2. Train Random Forest model\n",
    "rf_model = RandomForestClassifier(\n",
    "    n_estimators=100,\n",
    "    max_depth=10,\n",
    "    random_state=42\n",
    ")\n",
    "rf_model.fit(X_train, y_train)\n",
    "\n",
    "# 3. Predict\n",
    "y_pred = rf_model.predict(X_test)\n",
    "\n",
    "# 4. Evaluation\n",
    "print(\"Accuracy:\", accuracy_score(y_test, y_pred))\n",
    "print(\"Precision:\", precision_score(y_test, y_pred))\n",
    "print(\"Recall:\", recall_score(y_test, y_pred))\n",
    "print(\"F1 Score:\", f1_score(y_test, y_pred))\n",
    "print(\"\\nClassification Report:\\n\", classification_report(y_test, y_pred))\n"
   ]
  },
  {
   "cell_type": "code",
   "execution_count": 61,
   "id": "e8ea23d0-7245-4b21-a96a-b801849083d2",
   "metadata": {},
   "outputs": [
    {
     "name": "stderr",
     "output_type": "stream",
     "text": [
      "C:\\Users\\user\\AppData\\Local\\Temp\\ipykernel_7432\\1452950158.py:7: FutureWarning:\n",
      "\n",
      "\n",
      "\n",
      "Passing `palette` without assigning `hue` is deprecated and will be removed in v0.14.0. Assign the `y` variable to `hue` and set `legend=False` for the same effect.\n",
      "\n",
      "\n",
      "C:\\Users\\user\\AppData\\Local\\Programs\\Python\\Python311\\Lib\\site-packages\\seaborn\\_base.py:948: FutureWarning:\n",
      "\n",
      "When grouping with a length-1 list-like, you will need to pass a length-1 tuple to get_group in a future version of pandas. Pass `(name,)` instead of `name` to silence this warning.\n",
      "\n",
      "C:\\Users\\user\\AppData\\Local\\Programs\\Python\\Python311\\Lib\\site-packages\\seaborn\\_base.py:948: FutureWarning:\n",
      "\n",
      "When grouping with a length-1 list-like, you will need to pass a length-1 tuple to get_group in a future version of pandas. Pass `(name,)` instead of `name` to silence this warning.\n",
      "\n",
      "C:\\Users\\user\\AppData\\Local\\Programs\\Python\\Python311\\Lib\\site-packages\\seaborn\\_base.py:948: FutureWarning:\n",
      "\n",
      "When grouping with a length-1 list-like, you will need to pass a length-1 tuple to get_group in a future version of pandas. Pass `(name,)` instead of `name` to silence this warning.\n",
      "\n",
      "C:\\Users\\user\\AppData\\Local\\Programs\\Python\\Python311\\Lib\\site-packages\\seaborn\\_base.py:948: FutureWarning:\n",
      "\n",
      "When grouping with a length-1 list-like, you will need to pass a length-1 tuple to get_group in a future version of pandas. Pass `(name,)` instead of `name` to silence this warning.\n",
      "\n",
      "C:\\Users\\user\\AppData\\Local\\Programs\\Python\\Python311\\Lib\\site-packages\\seaborn\\_base.py:948: FutureWarning:\n",
      "\n",
      "When grouping with a length-1 list-like, you will need to pass a length-1 tuple to get_group in a future version of pandas. Pass `(name,)` instead of `name` to silence this warning.\n",
      "\n",
      "C:\\Users\\user\\AppData\\Local\\Programs\\Python\\Python311\\Lib\\site-packages\\seaborn\\_base.py:948: FutureWarning:\n",
      "\n",
      "When grouping with a length-1 list-like, you will need to pass a length-1 tuple to get_group in a future version of pandas. Pass `(name,)` instead of `name` to silence this warning.\n",
      "\n",
      "C:\\Users\\user\\AppData\\Local\\Programs\\Python\\Python311\\Lib\\site-packages\\seaborn\\_base.py:948: FutureWarning:\n",
      "\n",
      "When grouping with a length-1 list-like, you will need to pass a length-1 tuple to get_group in a future version of pandas. Pass `(name,)` instead of `name` to silence this warning.\n",
      "\n",
      "C:\\Users\\user\\AppData\\Local\\Programs\\Python\\Python311\\Lib\\site-packages\\seaborn\\_base.py:948: FutureWarning:\n",
      "\n",
      "When grouping with a length-1 list-like, you will need to pass a length-1 tuple to get_group in a future version of pandas. Pass `(name,)` instead of `name` to silence this warning.\n",
      "\n",
      "C:\\Users\\user\\AppData\\Local\\Programs\\Python\\Python311\\Lib\\site-packages\\seaborn\\_base.py:948: FutureWarning:\n",
      "\n",
      "When grouping with a length-1 list-like, you will need to pass a length-1 tuple to get_group in a future version of pandas. Pass `(name,)` instead of `name` to silence this warning.\n",
      "\n",
      "C:\\Users\\user\\AppData\\Local\\Programs\\Python\\Python311\\Lib\\site-packages\\seaborn\\_base.py:948: FutureWarning:\n",
      "\n",
      "When grouping with a length-1 list-like, you will need to pass a length-1 tuple to get_group in a future version of pandas. Pass `(name,)` instead of `name` to silence this warning.\n",
      "\n",
      "C:\\Users\\user\\AppData\\Local\\Programs\\Python\\Python311\\Lib\\site-packages\\seaborn\\_base.py:948: FutureWarning:\n",
      "\n",
      "When grouping with a length-1 list-like, you will need to pass a length-1 tuple to get_group in a future version of pandas. Pass `(name,)` instead of `name` to silence this warning.\n",
      "\n",
      "C:\\Users\\user\\AppData\\Local\\Programs\\Python\\Python311\\Lib\\site-packages\\seaborn\\_base.py:948: FutureWarning:\n",
      "\n",
      "When grouping with a length-1 list-like, you will need to pass a length-1 tuple to get_group in a future version of pandas. Pass `(name,)` instead of `name` to silence this warning.\n",
      "\n",
      "C:\\Users\\user\\AppData\\Local\\Programs\\Python\\Python311\\Lib\\site-packages\\seaborn\\_base.py:948: FutureWarning:\n",
      "\n",
      "When grouping with a length-1 list-like, you will need to pass a length-1 tuple to get_group in a future version of pandas. Pass `(name,)` instead of `name` to silence this warning.\n",
      "\n",
      "C:\\Users\\user\\AppData\\Local\\Programs\\Python\\Python311\\Lib\\site-packages\\seaborn\\_base.py:948: FutureWarning:\n",
      "\n",
      "When grouping with a length-1 list-like, you will need to pass a length-1 tuple to get_group in a future version of pandas. Pass `(name,)` instead of `name` to silence this warning.\n",
      "\n",
      "C:\\Users\\user\\AppData\\Local\\Programs\\Python\\Python311\\Lib\\site-packages\\seaborn\\_base.py:948: FutureWarning:\n",
      "\n",
      "When grouping with a length-1 list-like, you will need to pass a length-1 tuple to get_group in a future version of pandas. Pass `(name,)` instead of `name` to silence this warning.\n",
      "\n",
      "C:\\Users\\user\\AppData\\Local\\Programs\\Python\\Python311\\Lib\\site-packages\\seaborn\\_base.py:948: FutureWarning:\n",
      "\n",
      "When grouping with a length-1 list-like, you will need to pass a length-1 tuple to get_group in a future version of pandas. Pass `(name,)` instead of `name` to silence this warning.\n",
      "\n",
      "C:\\Users\\user\\AppData\\Local\\Programs\\Python\\Python311\\Lib\\site-packages\\seaborn\\_base.py:948: FutureWarning:\n",
      "\n",
      "When grouping with a length-1 list-like, you will need to pass a length-1 tuple to get_group in a future version of pandas. Pass `(name,)` instead of `name` to silence this warning.\n",
      "\n",
      "C:\\Users\\user\\AppData\\Local\\Programs\\Python\\Python311\\Lib\\site-packages\\seaborn\\_base.py:948: FutureWarning:\n",
      "\n",
      "When grouping with a length-1 list-like, you will need to pass a length-1 tuple to get_group in a future version of pandas. Pass `(name,)` instead of `name` to silence this warning.\n",
      "\n",
      "C:\\Users\\user\\AppData\\Local\\Programs\\Python\\Python311\\Lib\\site-packages\\seaborn\\_base.py:948: FutureWarning:\n",
      "\n",
      "When grouping with a length-1 list-like, you will need to pass a length-1 tuple to get_group in a future version of pandas. Pass `(name,)` instead of `name` to silence this warning.\n",
      "\n",
      "C:\\Users\\user\\AppData\\Local\\Programs\\Python\\Python311\\Lib\\site-packages\\seaborn\\_base.py:948: FutureWarning:\n",
      "\n",
      "When grouping with a length-1 list-like, you will need to pass a length-1 tuple to get_group in a future version of pandas. Pass `(name,)` instead of `name` to silence this warning.\n",
      "\n",
      "C:\\Users\\user\\AppData\\Local\\Programs\\Python\\Python311\\Lib\\site-packages\\seaborn\\_base.py:948: FutureWarning:\n",
      "\n",
      "When grouping with a length-1 list-like, you will need to pass a length-1 tuple to get_group in a future version of pandas. Pass `(name,)` instead of `name` to silence this warning.\n",
      "\n",
      "C:\\Users\\user\\AppData\\Local\\Programs\\Python\\Python311\\Lib\\site-packages\\seaborn\\_base.py:948: FutureWarning:\n",
      "\n",
      "When grouping with a length-1 list-like, you will need to pass a length-1 tuple to get_group in a future version of pandas. Pass `(name,)` instead of `name` to silence this warning.\n",
      "\n",
      "C:\\Users\\user\\AppData\\Local\\Programs\\Python\\Python311\\Lib\\site-packages\\seaborn\\_base.py:948: FutureWarning:\n",
      "\n",
      "When grouping with a length-1 list-like, you will need to pass a length-1 tuple to get_group in a future version of pandas. Pass `(name,)` instead of `name` to silence this warning.\n",
      "\n",
      "C:\\Users\\user\\AppData\\Local\\Programs\\Python\\Python311\\Lib\\site-packages\\seaborn\\_base.py:948: FutureWarning:\n",
      "\n",
      "When grouping with a length-1 list-like, you will need to pass a length-1 tuple to get_group in a future version of pandas. Pass `(name,)` instead of `name` to silence this warning.\n",
      "\n"
     ]
    },
    {
     "data": {
      "text/plain": [
       "'feature_importances_rf_custom.html'"
      ]
     },
     "execution_count": 61,
     "metadata": {},
     "output_type": "execute_result"
    },
    {
     "data": {
      "image/png": "[encoded data removed]",
      "text/plain": [
       "<Figure size 1000x600 with 1 Axes>"
      ]
     },
     "metadata": {
      "needs_background": "dark"
     },
     "output_type": "display_data"
    }
   ],
   "source": [
    "import seaborn as sns\n",
    "import matplotlib.pyplot as plt\n",
    "import plotly.graph_objects as go\n",
    "\n",
    "# Plot feature importances (assuming feature_df is already created)\n",
    "plt.figure(figsize=(10, 6))\n",
    "sns.barplot(x='Importance', y='Feature', data=feature_df, palette='viridis')\n",
    "\n",
    "# Set title and labels\n",
    "plt.title(\"Feature Importances (Random Forest)\", color='white')\n",
    "plt.xlabel('Importance Value', color='white')\n",
    "plt.ylabel('Feature', color='white')\n",
    "\n",
    "# Adjust layout for tightness\n",
    "plt.tight_layout()\n",
    "\n",
    "# Set background to transparent and font color to white\n",
    "plt.gcf().patch.set_facecolor('none')\n",
    "plt.gca().tick_params(axis='both', colors='white')\n",
    "\n",
    "# Create the figure with Plotly (for HTML export)\n",
    "fig = go.Figure(\n",
    "    data=[go.Bar(\n",
    "        x=feature_df['Importance'],\n",
    "        y=feature_df['Feature'],\n",
    "        orientation='h'\n",
    "    )]\n",
    ")\n",
    "\n",
    "fig.update_layout(\n",
    "    title=\"Feature Importances (Random Forest)\",\n",
    "    xaxis_title='Importance Value',\n",
    "    yaxis_title='Feature',\n",
    "    plot_bgcolor='rgba(0,0,0,0)',  # transparent background\n",
    "    paper_bgcolor='rgba(0,0,0,0)',\n",
    "    font=dict(color='white'),\n",
    ")\n",
    "\n",
    "# Save the figure to the current working directory\n",
    "feature_importance_html_path = \"feature_importances_rf_custom.html\"\n",
    "fig.write_html(feature_importance_html_path, full_html=True, include_plotlyjs='cdn')\n",
    "\n",
    "feature_importance_html_path  # Return the path for downloading\n"
   ]
  },
  {
   "cell_type": "markdown",
   "id": "81c2b2cb-923b-4bd8-8720-727bf21b37ad",
   "metadata": {},
   "source": [
    "The model performs relatively well in predicting home team victories, with an accuracy of 63%, indicating that it can correctly predict the outcome of most matches, especially when the home team wins. However, there are some shortcomings in the model, mainly in terms of false positives and false negatives. The false positives are 45, meaning the model incorrectly predicted a home team win when the actual result was a loss for the home team. The false negatives are 22, meaning the model failed to predict a home team win. The confusion matrix and classification report show that the model performs better in predicting home team victories, with a recall of 69%, indicating that the model can accurately identify most instances when the home team wins. However, the predictions for home team losses are not as accurate as for home team victories. The model has a precision of 66%, recall of 69%, and an F1 score of 0.68, reflecting a good balance between precision and recall. Feature importance analysis reveals that star players (such as **home\\_star** and **away\\_star**) have a significant impact on the model’s predictions. These features are assigned high importance, indicating that the presence of star players plays a crucial role in predicting the outcome of a match. Additionally, traditional strong teams (such as **Brazil**, **Germany**, **Argentina**, etc.) are also prominently considered, with the model reflecting this influence through the **home\\_strong** and **away\\_strong** features. Other factors such as **whether the home team is the host country** and **historical champions** are also effectively incorporated into the model. Overall, while the model performs fairly accurately in predicting home team victories, there is still room for improvement, particularly in predicting home team losses."
   ]
  },
  {
   "cell_type": "code",
   "execution_count": null,
   "id": "1468c2af-b884-4ae7-bb4c-e1e60d907c19",
   "metadata": {},
   "outputs": [],
   "source": []
  },
  {
   "cell_type": "code",
   "execution_count": null,
   "id": "8c18f333-39e9-4381-96cd-8b759619e8ef",
   "metadata": {},
   "outputs": [],
   "source": []
  },
  {
   "cell_type": "code",
   "execution_count": null,
   "id": "ee74f923-8a3e-4c23-b74d-5dbdcabba29d",
   "metadata": {},
   "outputs": [],
   "source": []
  },
  {
   "cell_type": "code",
   "execution_count": null,
   "id": "ae17cc68-f641-4d6a-83a7-8c27b2fe19dd",
   "metadata": {},
   "outputs": [],
   "source": []
  },
  {
   "cell_type": "code",
   "execution_count": null,
   "id": "ddd89d63-cc19-4cb4-8c86-25c16c64cb60",
   "metadata": {},
   "outputs": [],
   "source": []
  },
  {
   "cell_type": "code",
   "execution_count": null,
   "id": "a839d325-6890-4605-81a9-8b18acce9eae",
   "metadata": {},
   "outputs": [],
   "source": []
  },
  {
   "cell_type": "code",
   "execution_count": null,
   "id": "f159285c-2925-4ffa-a460-3a65f04eae6e",
   "metadata": {},
   "outputs": [],
   "source": []
  },
  {
   "cell_type": "code",
   "execution_count": null,
   "id": "94050cb6-10cd-4d99-b33b-6717371e406c",
   "metadata": {},
   "outputs": [],
   "source": []
  },
  {
   "cell_type": "code",
   "execution_count": null,
   "id": "12ea8d1a-4656-4053-80df-98f80465bcd5",
   "metadata": {},
   "outputs": [],
   "source": []
  },
  {
   "cell_type": "code",
   "execution_count": null,
   "id": "a77bf6bb-bcdf-410e-b3d9-ee08627d05da",
   "metadata": {},
   "outputs": [],
   "source": []
  },
  {
   "cell_type": "code",
   "execution_count": null,
   "id": "6b6e4495-9587-47b7-bba4-6b5b045b5a19",
   "metadata": {},
   "outputs": [],
   "source": []
  },
  {
   "cell_type": "code",
   "execution_count": null,
   "id": "64f8df39-2269-4866-87ca-316af5eecc18",
   "metadata": {},
   "outputs": [],
   "source": []
  },
  {
   "cell_type": "code",
   "execution_count": null,
   "id": "50f773ab-8989-4911-b6d7-a9fe5a3ce5d4",
   "metadata": {},
   "outputs": [],
   "source": []
  },
  {
   "cell_type": "code",
   "execution_count": null,
   "id": "9ca4fc00-5f14-42a5-ba38-5dfd39a7663f",
   "metadata": {},
   "outputs": [],
   "source": []
  },
  {
   "cell_type": "code",
   "execution_count": null,
   "id": "e663257e-d7b6-41de-9289-882170bc5e0c",
   "metadata": {},
   "outputs": [],
   "source": []
  },
  {
   "cell_type": "code",
   "execution_count": null,
   "id": "c2561753-617d-4737-8b00-0c46170390ce",
   "metadata": {},
   "outputs": [],
   "source": []
  }
 ],
 "metadata": {
  "kernelspec": {
   "display_name": "Python 3 (ipykernel)",
   "language": "python",
   "name": "python3"
  },
  "language_info": {
   "codemirror_mode": {
    "name": "ipython",
    "version": 3
   },
   "file_extension": ".py",
   "mimetype": "text/x-python",
   "name": "python",
   "nbconvert_exporter": "python",
   "pygments_lexer": "ipython3",
   "version": "3.11.5"
  }
 },
 "nbformat": 4,
 "nbformat_minor": 5
}
